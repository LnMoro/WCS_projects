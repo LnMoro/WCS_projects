{
  "nbformat": 4,
  "nbformat_minor": 0,
  "metadata": {
    "colab": {
      "name": "LN_Coor_GES_TEMP.ipynb",
      "provenance": [],
      "collapsed_sections": [
        "1wMvOmuXcVUp",
        "_u8NqSUuU1oy",
        "mUnSTtT1U_Ea",
        "Gzdl2PpYWZaT",
        "6tJIDvplaMSP"
      ],
      "authorship_tag": "ABX9TyPJBD9Hfymjt/LZ4F5hMmTT"
    },
    "kernelspec": {
      "name": "python3",
      "display_name": "Python 3"
    }
  },
  "cells": [
    {
      "cell_type": "code",
      "metadata": {
        "id": "NkfMgU64qSVX",
        "colab_type": "code",
        "colab": {}
      },
      "source": [
        "import pandas as pd\n",
        "import matplotlib.pyplot as plt\n",
        "import seaborn as sns\n",
        "import numpy as np"
      ],
      "execution_count": 0,
      "outputs": []
    },
    {
      "cell_type": "markdown",
      "metadata": {
        "id": "1wMvOmuXcVUp",
        "colab_type": "text"
      },
      "source": [
        "#Import des données"
      ]
    },
    {
      "cell_type": "code",
      "metadata": {
        "id": "H6abg_LTrYgQ",
        "colab_type": "code",
        "colab": {}
      },
      "source": [
        "from pydrive.auth import GoogleAuth\n",
        "from pydrive.drive import GoogleDrive\n",
        "from google.colab import auth\n",
        "from oauth2client.client import GoogleCredentials\n",
        " \n",
        "# Authentification Google\n",
        "auth.authenticate_user()\n",
        "gauth = GoogleAuth()\n",
        "gauth.credentials = GoogleCredentials.get_application_default()\n",
        "drive = GoogleDrive(gauth)\n",
        " \n",
        "# Download du fichier\n",
        "id = '1XIRDvsw_OBSRSBrBl3yfJcFBl7V-kMJh'\n",
        "downloaded = drive.CreateFile({'id': '1XIRDvsw_OBSRSBrBl3yfJcFBl7V-kMJh'})\n",
        "downloaded.GetContentFile('atmospheric-concentration-of-carbon-dioxide-5.csv')"
      ],
      "execution_count": 0,
      "outputs": []
    },
    {
      "cell_type": "code",
      "metadata": {
        "id": "fmXU5LSjr308",
        "colab_type": "code",
        "colab": {}
      },
      "source": [
        "#https://drive.google.com/file/d/1XIRDvsw_OBSRSBrBl3yfJcFBl7V-kMJh/view?usp=sharing"
      ],
      "execution_count": 0,
      "outputs": []
    },
    {
      "cell_type": "code",
      "metadata": {
        "id": "7kPHVprrr_Ge",
        "colab_type": "code",
        "outputId": "95a1c317-5d8a-48d5-aa82-51bc9829e413",
        "colab": {
          "base_uri": "https://localhost:8080/",
          "height": 343
        }
      },
      "source": [
        "GES = pd.read_csv('atmospheric-concentration-of-carbon-dioxide-5.csv')\n",
        "GES.head(10)"
      ],
      "execution_count": 0,
      "outputs": [
        {
          "output_type": "execute_result",
          "data": {
            "text/html": [
              "<div>\n",
              "<style scoped>\n",
              "    .dataframe tbody tr th:only-of-type {\n",
              "        vertical-align: middle;\n",
              "    }\n",
              "\n",
              "    .dataframe tbody tr th {\n",
              "        vertical-align: top;\n",
              "    }\n",
              "\n",
              "    .dataframe thead th {\n",
              "        text-align: right;\n",
              "    }\n",
              "</style>\n",
              "<table border=\"1\" class=\"dataframe\">\n",
              "  <thead>\n",
              "    <tr style=\"text-align: right;\">\n",
              "      <th></th>\n",
              "      <th>Year:year</th>\n",
              "      <th>Value:number</th>\n",
              "      <th>Polutant:text</th>\n",
              "    </tr>\n",
              "  </thead>\n",
              "  <tbody>\n",
              "    <tr>\n",
              "      <th>0</th>\n",
              "      <td>1750</td>\n",
              "      <td>278.0</td>\n",
              "      <td>CO2 (ppm)</td>\n",
              "    </tr>\n",
              "    <tr>\n",
              "      <th>1</th>\n",
              "      <td>1755</td>\n",
              "      <td>278.0</td>\n",
              "      <td>CO2 (ppm)</td>\n",
              "    </tr>\n",
              "    <tr>\n",
              "      <th>2</th>\n",
              "      <td>1760</td>\n",
              "      <td>278.0</td>\n",
              "      <td>CO2 (ppm)</td>\n",
              "    </tr>\n",
              "    <tr>\n",
              "      <th>3</th>\n",
              "      <td>1765</td>\n",
              "      <td>278.0</td>\n",
              "      <td>CO2 (ppm)</td>\n",
              "    </tr>\n",
              "    <tr>\n",
              "      <th>4</th>\n",
              "      <td>1770</td>\n",
              "      <td>278.6</td>\n",
              "      <td>CO2 (ppm)</td>\n",
              "    </tr>\n",
              "    <tr>\n",
              "      <th>5</th>\n",
              "      <td>1775</td>\n",
              "      <td>279.3</td>\n",
              "      <td>CO2 (ppm)</td>\n",
              "    </tr>\n",
              "    <tr>\n",
              "      <th>6</th>\n",
              "      <td>1780</td>\n",
              "      <td>280.1</td>\n",
              "      <td>CO2 (ppm)</td>\n",
              "    </tr>\n",
              "    <tr>\n",
              "      <th>7</th>\n",
              "      <td>1785</td>\n",
              "      <td>280.8</td>\n",
              "      <td>CO2 (ppm)</td>\n",
              "    </tr>\n",
              "    <tr>\n",
              "      <th>8</th>\n",
              "      <td>1790</td>\n",
              "      <td>281.6</td>\n",
              "      <td>CO2 (ppm)</td>\n",
              "    </tr>\n",
              "    <tr>\n",
              "      <th>9</th>\n",
              "      <td>1795</td>\n",
              "      <td>282.3</td>\n",
              "      <td>CO2 (ppm)</td>\n",
              "    </tr>\n",
              "  </tbody>\n",
              "</table>\n",
              "</div>"
            ],
            "text/plain": [
              "   Year:year  Value:number Polutant:text\n",
              "0       1750         278.0     CO2 (ppm)\n",
              "1       1755         278.0     CO2 (ppm)\n",
              "2       1760         278.0     CO2 (ppm)\n",
              "3       1765         278.0     CO2 (ppm)\n",
              "4       1770         278.6     CO2 (ppm)\n",
              "5       1775         279.3     CO2 (ppm)\n",
              "6       1780         280.1     CO2 (ppm)\n",
              "7       1785         280.8     CO2 (ppm)\n",
              "8       1790         281.6     CO2 (ppm)\n",
              "9       1795         282.3     CO2 (ppm)"
            ]
          },
          "metadata": {
            "tags": []
          },
          "execution_count": 3
        }
      ]
    },
    {
      "cell_type": "code",
      "metadata": {
        "id": "IpP9xVFRtBvw",
        "colab_type": "code",
        "outputId": "cbf49f66-09a5-475c-8edb-924787f4db83",
        "colab": {
          "base_uri": "https://localhost:8080/",
          "height": 106
        }
      },
      "source": [
        "GES.tail(2)"
      ],
      "execution_count": 0,
      "outputs": [
        {
          "output_type": "execute_result",
          "data": {
            "text/html": [
              "<div>\n",
              "<style scoped>\n",
              "    .dataframe tbody tr th:only-of-type {\n",
              "        vertical-align: middle;\n",
              "    }\n",
              "\n",
              "    .dataframe tbody tr th {\n",
              "        vertical-align: top;\n",
              "    }\n",
              "\n",
              "    .dataframe thead th {\n",
              "        text-align: right;\n",
              "    }\n",
              "</style>\n",
              "<table border=\"1\" class=\"dataframe\">\n",
              "  <thead>\n",
              "    <tr style=\"text-align: right;\">\n",
              "      <th></th>\n",
              "      <th>Year:year</th>\n",
              "      <th>Value:number</th>\n",
              "      <th>Polutant:text</th>\n",
              "    </tr>\n",
              "  </thead>\n",
              "  <tbody>\n",
              "    <tr>\n",
              "      <th>259</th>\n",
              "      <td>2017</td>\n",
              "      <td>330.31</td>\n",
              "      <td>N2O (ppb)</td>\n",
              "    </tr>\n",
              "    <tr>\n",
              "      <th>260</th>\n",
              "      <td>2018</td>\n",
              "      <td>NaN</td>\n",
              "      <td>N2O (ppb)</td>\n",
              "    </tr>\n",
              "  </tbody>\n",
              "</table>\n",
              "</div>"
            ],
            "text/plain": [
              "     Year:year  Value:number Polutant:text\n",
              "259       2017        330.31     N2O (ppb)\n",
              "260       2018           NaN     N2O (ppb)"
            ]
          },
          "metadata": {
            "tags": []
          },
          "execution_count": 12
        }
      ]
    },
    {
      "cell_type": "code",
      "metadata": {
        "id": "r_dgI5JVsYPX",
        "colab_type": "code",
        "colab": {}
      },
      "source": [
        "#https://drive.google.com/file/d/1iybQRgupTsgauHMLKZaHaJL4J6oH6QZw/view?usp=sharing"
      ],
      "execution_count": 0,
      "outputs": []
    },
    {
      "cell_type": "code",
      "metadata": {
        "id": "6xTmT1AtsOxG",
        "colab_type": "code",
        "colab": {}
      },
      "source": [
        "#temperature\n",
        "id = '1iybQRgupTsgauHMLKZaHaJL4J6oH6QZw'\n",
        "downloaded = drive.CreateFile({'id': '1iybQRgupTsgauHMLKZaHaJL4J6oH6QZw'})\n",
        "downloaded.GetContentFile('Global_temp_anomaly.csv')"
      ],
      "execution_count": 0,
      "outputs": []
    },
    {
      "cell_type": "code",
      "metadata": {
        "id": "BAUAfadIskK_",
        "colab_type": "code",
        "outputId": "6258a39e-924d-41c7-ec3f-0a01ae519bce",
        "colab": {
          "base_uri": "https://localhost:8080/",
          "height": 106
        }
      },
      "source": [
        "TEMP = pd.read_csv('Global_temp_anomaly.csv')\n",
        "TEMP.head(2)"
      ],
      "execution_count": 0,
      "outputs": [
        {
          "output_type": "execute_result",
          "data": {
            "text/html": [
              "<div>\n",
              "<style scoped>\n",
              "    .dataframe tbody tr th:only-of-type {\n",
              "        vertical-align: middle;\n",
              "    }\n",
              "\n",
              "    .dataframe tbody tr th {\n",
              "        vertical-align: top;\n",
              "    }\n",
              "\n",
              "    .dataframe thead th {\n",
              "        text-align: right;\n",
              "    }\n",
              "</style>\n",
              "<table border=\"1\" class=\"dataframe\">\n",
              "  <thead>\n",
              "    <tr style=\"text-align: right;\">\n",
              "      <th></th>\n",
              "      <th>Unnamed: 0</th>\n",
              "      <th>Year</th>\n",
              "      <th>Value</th>\n",
              "    </tr>\n",
              "  </thead>\n",
              "  <tbody>\n",
              "    <tr>\n",
              "      <th>0</th>\n",
              "      <td>1</td>\n",
              "      <td>1961</td>\n",
              "      <td>0.207</td>\n",
              "    </tr>\n",
              "    <tr>\n",
              "      <th>1</th>\n",
              "      <td>2</td>\n",
              "      <td>1962</td>\n",
              "      <td>0.034</td>\n",
              "    </tr>\n",
              "  </tbody>\n",
              "</table>\n",
              "</div>"
            ],
            "text/plain": [
              "   Unnamed: 0  Year  Value\n",
              "0           1  1961  0.207\n",
              "1           2  1962  0.034"
            ]
          },
          "metadata": {
            "tags": []
          },
          "execution_count": 5
        }
      ]
    },
    {
      "cell_type": "code",
      "metadata": {
        "id": "eMBsnzGSu7ZO",
        "colab_type": "code",
        "outputId": "ff6df1f2-7f9f-41ce-def4-7434ab30bc2a",
        "colab": {
          "base_uri": "https://localhost:8080/",
          "height": 151
        }
      },
      "source": [
        "print(TEMP.dtypes)\n",
        "print()\n",
        "print(GES.dtypes)"
      ],
      "execution_count": 0,
      "outputs": [
        {
          "output_type": "stream",
          "text": [
            "Unnamed: 0      int64\n",
            "Year            int64\n",
            "Value         float64\n",
            "dtype: object\n",
            "Year:year          int64\n",
            "Value:number     float64\n",
            "Polutant:text     object\n",
            "dtype: object\n"
          ],
          "name": "stdout"
        }
      ]
    },
    {
      "cell_type": "code",
      "metadata": {
        "id": "lLofrPndvmIK",
        "colab_type": "code",
        "outputId": "4fe6737f-99ac-49a0-d823-01c589a916f3",
        "colab": {
          "base_uri": "https://localhost:8080/",
          "height": 67
        }
      },
      "source": [
        "print(TEMP.shape)\n",
        "print()\n",
        "print(GES.shape)"
      ],
      "execution_count": 0,
      "outputs": [
        {
          "output_type": "stream",
          "text": [
            "(59, 3)\n",
            "\n",
            "(261, 3)\n"
          ],
          "name": "stdout"
        }
      ]
    },
    {
      "cell_type": "code",
      "metadata": {
        "id": "mr-tWca9u_8q",
        "colab_type": "code",
        "outputId": "1951112f-b0b4-49da-e9d6-738fab80345b",
        "colab": {
          "base_uri": "https://localhost:8080/",
          "height": 403
        }
      },
      "source": [
        "print(TEMP.info())\n",
        "print()\n",
        "print(GES.info())"
      ],
      "execution_count": 0,
      "outputs": [
        {
          "output_type": "stream",
          "text": [
            "<class 'pandas.core.frame.DataFrame'>\n",
            "RangeIndex: 59 entries, 0 to 58\n",
            "Data columns (total 3 columns):\n",
            " #   Column      Non-Null Count  Dtype  \n",
            "---  ------      --------------  -----  \n",
            " 0   Unnamed: 0  59 non-null     int64  \n",
            " 1   Year        59 non-null     int64  \n",
            " 2   Value       59 non-null     float64\n",
            "dtypes: float64(1), int64(2)\n",
            "memory usage: 1.5 KB\n",
            "None\n",
            "\n",
            "<class 'pandas.core.frame.DataFrame'>\n",
            "RangeIndex: 261 entries, 0 to 260\n",
            "Data columns (total 3 columns):\n",
            " #   Column         Non-Null Count  Dtype  \n",
            "---  ------         --------------  -----  \n",
            " 0   Year:year      261 non-null    int64  \n",
            " 1   Value:number   259 non-null    float64\n",
            " 2   Polutant:text  261 non-null    object \n",
            "dtypes: float64(1), int64(1), object(1)\n",
            "memory usage: 6.2+ KB\n",
            "None\n"
          ],
          "name": "stdout"
        }
      ]
    },
    {
      "cell_type": "code",
      "metadata": {
        "id": "x4SdDS91tSim",
        "colab_type": "code",
        "colab": {}
      },
      "source": [
        "df_GES_TEMP = GES.merge(TEMP, how='outer', left_on='Year:year', right_on='Year').copy()"
      ],
      "execution_count": 0,
      "outputs": []
    },
    {
      "cell_type": "code",
      "metadata": {
        "id": "JmLq9raQuBJZ",
        "colab_type": "code",
        "outputId": "ffe76dd0-3cf1-4670-b8c6-7efb5014e345",
        "colab": {
          "base_uri": "https://localhost:8080/",
          "height": 195
        }
      },
      "source": [
        "df_GES_TEMP.head()"
      ],
      "execution_count": 0,
      "outputs": [
        {
          "output_type": "execute_result",
          "data": {
            "text/html": [
              "<div>\n",
              "<style scoped>\n",
              "    .dataframe tbody tr th:only-of-type {\n",
              "        vertical-align: middle;\n",
              "    }\n",
              "\n",
              "    .dataframe tbody tr th {\n",
              "        vertical-align: top;\n",
              "    }\n",
              "\n",
              "    .dataframe thead th {\n",
              "        text-align: right;\n",
              "    }\n",
              "</style>\n",
              "<table border=\"1\" class=\"dataframe\">\n",
              "  <thead>\n",
              "    <tr style=\"text-align: right;\">\n",
              "      <th></th>\n",
              "      <th>Year:year</th>\n",
              "      <th>Value:number</th>\n",
              "      <th>Polutant:text</th>\n",
              "      <th>Unnamed: 0</th>\n",
              "      <th>Year</th>\n",
              "      <th>Value</th>\n",
              "    </tr>\n",
              "  </thead>\n",
              "  <tbody>\n",
              "    <tr>\n",
              "      <th>0</th>\n",
              "      <td>1750.0</td>\n",
              "      <td>278.00</td>\n",
              "      <td>CO2 (ppm)</td>\n",
              "      <td>NaN</td>\n",
              "      <td>NaN</td>\n",
              "      <td>NaN</td>\n",
              "    </tr>\n",
              "    <tr>\n",
              "      <th>1</th>\n",
              "      <td>1750.0</td>\n",
              "      <td>719.01</td>\n",
              "      <td>CH4 (ppb)</td>\n",
              "      <td>NaN</td>\n",
              "      <td>NaN</td>\n",
              "      <td>NaN</td>\n",
              "    </tr>\n",
              "    <tr>\n",
              "      <th>2</th>\n",
              "      <td>1750.0</td>\n",
              "      <td>270.00</td>\n",
              "      <td>N2O (ppb)</td>\n",
              "      <td>NaN</td>\n",
              "      <td>NaN</td>\n",
              "      <td>NaN</td>\n",
              "    </tr>\n",
              "    <tr>\n",
              "      <th>3</th>\n",
              "      <td>1755.0</td>\n",
              "      <td>278.00</td>\n",
              "      <td>CO2 (ppm)</td>\n",
              "      <td>NaN</td>\n",
              "      <td>NaN</td>\n",
              "      <td>NaN</td>\n",
              "    </tr>\n",
              "    <tr>\n",
              "      <th>4</th>\n",
              "      <td>1755.0</td>\n",
              "      <td>719.97</td>\n",
              "      <td>CH4 (ppb)</td>\n",
              "      <td>NaN</td>\n",
              "      <td>NaN</td>\n",
              "      <td>NaN</td>\n",
              "    </tr>\n",
              "  </tbody>\n",
              "</table>\n",
              "</div>"
            ],
            "text/plain": [
              "   Year:year  Value:number Polutant:text  Unnamed: 0  Year  Value\n",
              "0     1750.0        278.00     CO2 (ppm)         NaN   NaN    NaN\n",
              "1     1750.0        719.01     CH4 (ppb)         NaN   NaN    NaN\n",
              "2     1750.0        270.00     N2O (ppb)         NaN   NaN    NaN\n",
              "3     1755.0        278.00     CO2 (ppm)         NaN   NaN    NaN\n",
              "4     1755.0        719.97     CH4 (ppb)         NaN   NaN    NaN"
            ]
          },
          "metadata": {
            "tags": []
          },
          "execution_count": 7
        }
      ]
    },
    {
      "cell_type": "code",
      "metadata": {
        "id": "VDvfW_LKunKO",
        "colab_type": "code",
        "outputId": "c0cb2bc1-6d84-4a36-dcef-d51b049e695f",
        "colab": {
          "base_uri": "https://localhost:8080/",
          "height": 195
        }
      },
      "source": [
        "df_GES_TEMP.tail()"
      ],
      "execution_count": 0,
      "outputs": [
        {
          "output_type": "execute_result",
          "data": {
            "text/html": [
              "<div>\n",
              "<style scoped>\n",
              "    .dataframe tbody tr th:only-of-type {\n",
              "        vertical-align: middle;\n",
              "    }\n",
              "\n",
              "    .dataframe tbody tr th {\n",
              "        vertical-align: top;\n",
              "    }\n",
              "\n",
              "    .dataframe thead th {\n",
              "        text-align: right;\n",
              "    }\n",
              "</style>\n",
              "<table border=\"1\" class=\"dataframe\">\n",
              "  <thead>\n",
              "    <tr style=\"text-align: right;\">\n",
              "      <th></th>\n",
              "      <th>Year:year</th>\n",
              "      <th>Value:number</th>\n",
              "      <th>Polutant:text</th>\n",
              "      <th>Unnamed: 0</th>\n",
              "      <th>Year</th>\n",
              "      <th>Value</th>\n",
              "    </tr>\n",
              "  </thead>\n",
              "  <tbody>\n",
              "    <tr>\n",
              "      <th>271</th>\n",
              "      <td>NaN</td>\n",
              "      <td>NaN</td>\n",
              "      <td>NaN</td>\n",
              "      <td>13.0</td>\n",
              "      <td>1973.0</td>\n",
              "      <td>0.275</td>\n",
              "    </tr>\n",
              "    <tr>\n",
              "      <th>272</th>\n",
              "      <td>NaN</td>\n",
              "      <td>NaN</td>\n",
              "      <td>NaN</td>\n",
              "      <td>14.0</td>\n",
              "      <td>1974.0</td>\n",
              "      <td>-0.181</td>\n",
              "    </tr>\n",
              "    <tr>\n",
              "      <th>273</th>\n",
              "      <td>NaN</td>\n",
              "      <td>NaN</td>\n",
              "      <td>NaN</td>\n",
              "      <td>16.0</td>\n",
              "      <td>1976.0</td>\n",
              "      <td>-0.311</td>\n",
              "    </tr>\n",
              "    <tr>\n",
              "      <th>274</th>\n",
              "      <td>NaN</td>\n",
              "      <td>NaN</td>\n",
              "      <td>NaN</td>\n",
              "      <td>17.0</td>\n",
              "      <td>1977.0</td>\n",
              "      <td>0.271</td>\n",
              "    </tr>\n",
              "    <tr>\n",
              "      <th>275</th>\n",
              "      <td>NaN</td>\n",
              "      <td>NaN</td>\n",
              "      <td>NaN</td>\n",
              "      <td>59.0</td>\n",
              "      <td>2019.0</td>\n",
              "      <td>1.473</td>\n",
              "    </tr>\n",
              "  </tbody>\n",
              "</table>\n",
              "</div>"
            ],
            "text/plain": [
              "     Year:year  Value:number Polutant:text  Unnamed: 0    Year  Value\n",
              "271        NaN           NaN           NaN        13.0  1973.0  0.275\n",
              "272        NaN           NaN           NaN        14.0  1974.0 -0.181\n",
              "273        NaN           NaN           NaN        16.0  1976.0 -0.311\n",
              "274        NaN           NaN           NaN        17.0  1977.0  0.271\n",
              "275        NaN           NaN           NaN        59.0  2019.0  1.473"
            ]
          },
          "metadata": {
            "tags": []
          },
          "execution_count": 8
        }
      ]
    },
    {
      "cell_type": "code",
      "metadata": {
        "id": "vowi_nbmusct",
        "colab_type": "code",
        "outputId": "8b9736eb-3922-4df7-9c72-baac93b060b8",
        "colab": {
          "base_uri": "https://localhost:8080/",
          "height": 34
        }
      },
      "source": [
        "df_GES_TEMP.shape\n"
      ],
      "execution_count": 0,
      "outputs": [
        {
          "output_type": "execute_result",
          "data": {
            "text/plain": [
              "(276, 6)"
            ]
          },
          "metadata": {
            "tags": []
          },
          "execution_count": 15
        }
      ]
    },
    {
      "cell_type": "code",
      "metadata": {
        "id": "NxZi68kLuwxn",
        "colab_type": "code",
        "outputId": "cbd1abdd-92f3-48f1-9cc7-fb998cc113be",
        "colab": {
          "base_uri": "https://localhost:8080/",
          "height": 235
        }
      },
      "source": [
        "df_GES_TEMP.info()"
      ],
      "execution_count": 0,
      "outputs": [
        {
          "output_type": "stream",
          "text": [
            "<class 'pandas.core.frame.DataFrame'>\n",
            "Int64Index: 276 entries, 0 to 275\n",
            "Data columns (total 6 columns):\n",
            " #   Column         Non-Null Count  Dtype  \n",
            "---  ------         --------------  -----  \n",
            " 0   Year:year      261 non-null    float64\n",
            " 1   Value:number   259 non-null    float64\n",
            " 2   Polutant:text  261 non-null    object \n",
            " 3   Unnamed: 0     147 non-null    float64\n",
            " 4   Year           147 non-null    float64\n",
            " 5   Value          147 non-null    float64\n",
            "dtypes: float64(5), object(1)\n",
            "memory usage: 15.1+ KB\n"
          ],
          "name": "stdout"
        }
      ]
    },
    {
      "cell_type": "code",
      "metadata": {
        "id": "7Ylfyqkov81O",
        "colab_type": "code",
        "colab": {}
      },
      "source": [
        "df_GES_TEMP.dropna(inplace=True)"
      ],
      "execution_count": 0,
      "outputs": []
    },
    {
      "cell_type": "code",
      "metadata": {
        "id": "_OmA1WEfwAu-",
        "colab_type": "code",
        "outputId": "0dfdf760-bbf4-4750-936a-ff4031896212",
        "colab": {
          "base_uri": "https://localhost:8080/",
          "height": 286
        }
      },
      "source": [
        "print(df_GES_TEMP.shape)\n",
        "print()\n",
        "print(df_GES_TEMP.info())"
      ],
      "execution_count": 0,
      "outputs": [
        {
          "output_type": "stream",
          "text": [
            "(130, 6)\n",
            "\n",
            "<class 'pandas.core.frame.DataFrame'>\n",
            "Int64Index: 130 entries, 129 to 258\n",
            "Data columns (total 6 columns):\n",
            " #   Column         Non-Null Count  Dtype  \n",
            "---  ------         --------------  -----  \n",
            " 0   Year:year      130 non-null    float64\n",
            " 1   Value:number   130 non-null    float64\n",
            " 2   Polutant:text  130 non-null    object \n",
            " 3   Unnamed: 0     130 non-null    float64\n",
            " 4   Year           130 non-null    float64\n",
            " 5   Value          130 non-null    float64\n",
            "dtypes: float64(5), object(1)\n",
            "memory usage: 7.1+ KB\n",
            "None\n"
          ],
          "name": "stdout"
        }
      ]
    },
    {
      "cell_type": "markdown",
      "metadata": {
        "id": "_u8NqSUuU1oy",
        "colab_type": "text"
      },
      "source": [
        "#visualisations de vérification"
      ]
    },
    {
      "cell_type": "code",
      "metadata": {
        "id": "We25Kf6lwKOc",
        "colab_type": "code",
        "outputId": "79d67465-b8a7-4f86-bb2c-c7f56a567faa",
        "colab": {
          "base_uri": "https://localhost:8080/",
          "height": 296
        }
      },
      "source": [
        "sns.lineplot('Year', 'Value:number', data=df_GES_TEMP, hue='Polutant:text')\n",
        "sns.lineplot('Year', 'Value', data=df_GES_TEMP) #forcément ^^"
      ],
      "execution_count": 0,
      "outputs": [
        {
          "output_type": "execute_result",
          "data": {
            "text/plain": [
              "<matplotlib.axes._subplots.AxesSubplot at 0x7f29117b1400>"
            ]
          },
          "metadata": {
            "tags": []
          },
          "execution_count": 10
        },
        {
          "output_type": "display_data",
          "data": {
            "image/png": "[encoded data removed]",
            "text/plain": [
              "<Figure size 432x288 with 1 Axes>"
            ]
          },
          "metadata": {
            "tags": [],
            "needs_background": "light"
          }
        }
      ]
    },
    {
      "cell_type": "code",
      "metadata": {
        "id": "jOK7pR7zw1VB",
        "colab_type": "code",
        "outputId": "05741b54-8cde-451c-a4c7-8cabd44b4634",
        "colab": {
          "base_uri": "https://localhost:8080/",
          "height": 298
        }
      },
      "source": [
        "sns.scatterplot('Value:number','Value', data=df_GES_TEMP, hue='Polutant:text')"
      ],
      "execution_count": 0,
      "outputs": [
        {
          "output_type": "execute_result",
          "data": {
            "text/plain": [
              "<matplotlib.axes._subplots.AxesSubplot at 0x7f071f0478d0>"
            ]
          },
          "metadata": {
            "tags": []
          },
          "execution_count": 31
        },
        {
          "output_type": "display_data",
          "data": {
            "image/png": "[encoded data removed]",
            "text/plain": [
              "<Figure size 432x288 with 1 Axes>"
            ]
          },
          "metadata": {
            "tags": [],
            "needs_background": "light"
          }
        }
      ]
    },
    {
      "cell_type": "markdown",
      "metadata": {
        "id": "mUnSTtT1U_Ea",
        "colab_type": "text"
      },
      "source": [
        "#CREATION d'un DF pour chaque GES"
      ]
    },
    {
      "cell_type": "markdown",
      "metadata": {
        "id": "dHWOR7oeVFhB",
        "colab_type": "text"
      },
      "source": [
        "##CO2"
      ]
    },
    {
      "cell_type": "code",
      "metadata": {
        "id": "0Ed-IdMvxa6q",
        "colab_type": "code",
        "colab": {}
      },
      "source": [
        "CO2 = df_GES_TEMP[df_GES_TEMP['Polutant:text']=='CO2 (ppm)']"
      ],
      "execution_count": 0,
      "outputs": []
    },
    {
      "cell_type": "code",
      "metadata": {
        "id": "5lR5jr6oxlSn",
        "colab_type": "code",
        "outputId": "3c2657cf-ec13-4c5a-f0bc-5b3df8f852ea",
        "colab": {
          "base_uri": "https://localhost:8080/",
          "height": 34
        }
      },
      "source": [
        "CO2.shape"
      ],
      "execution_count": 0,
      "outputs": [
        {
          "output_type": "execute_result",
          "data": {
            "text/plain": [
              "(44, 6)"
            ]
          },
          "metadata": {
            "tags": []
          },
          "execution_count": 33
        }
      ]
    },
    {
      "cell_type": "code",
      "metadata": {
        "id": "xESF_23Uxp1d",
        "colab_type": "code",
        "outputId": "73fc67a9-bdce-4208-9584-e00bde417fcc",
        "colab": {
          "base_uri": "https://localhost:8080/",
          "height": 298
        }
      },
      "source": [
        "sns.scatterplot('Value:number','Value', data=CO2)"
      ],
      "execution_count": 0,
      "outputs": [
        {
          "output_type": "execute_result",
          "data": {
            "text/plain": [
              "<matplotlib.axes._subplots.AxesSubplot at 0x7f071a625400>"
            ]
          },
          "metadata": {
            "tags": []
          },
          "execution_count": 34
        },
        {
          "output_type": "display_data",
          "data": {
            "image/png": "[encoded data removed]",
            "text/plain": [
              "<Figure size 432x288 with 1 Axes>"
            ]
          },
          "metadata": {
            "tags": [],
            "needs_background": "light"
          }
        }
      ]
    },
    {
      "cell_type": "code",
      "metadata": {
        "id": "-1xH_wzVySnB",
        "colab_type": "code",
        "outputId": "07b5b85e-198a-42b2-a89e-54c1d0b3e44f",
        "colab": {
          "base_uri": "https://localhost:8080/",
          "height": 195
        }
      },
      "source": [
        "CO2.corr()"
      ],
      "execution_count": 0,
      "outputs": [
        {
          "output_type": "execute_result",
          "data": {
            "text/html": [
              "<div>\n",
              "<style scoped>\n",
              "    .dataframe tbody tr th:only-of-type {\n",
              "        vertical-align: middle;\n",
              "    }\n",
              "\n",
              "    .dataframe tbody tr th {\n",
              "        vertical-align: top;\n",
              "    }\n",
              "\n",
              "    .dataframe thead th {\n",
              "        text-align: right;\n",
              "    }\n",
              "</style>\n",
              "<table border=\"1\" class=\"dataframe\">\n",
              "  <thead>\n",
              "    <tr style=\"text-align: right;\">\n",
              "      <th></th>\n",
              "      <th>Year:year</th>\n",
              "      <th>Value:number</th>\n",
              "      <th>Unnamed: 0</th>\n",
              "      <th>Year</th>\n",
              "      <th>Value</th>\n",
              "    </tr>\n",
              "  </thead>\n",
              "  <tbody>\n",
              "    <tr>\n",
              "      <th>Year:year</th>\n",
              "      <td>1.000000</td>\n",
              "      <td>0.994224</td>\n",
              "      <td>1.000000</td>\n",
              "      <td>1.000000</td>\n",
              "      <td>0.922373</td>\n",
              "    </tr>\n",
              "    <tr>\n",
              "      <th>Value:number</th>\n",
              "      <td>0.994224</td>\n",
              "      <td>1.000000</td>\n",
              "      <td>0.994224</td>\n",
              "      <td>0.994224</td>\n",
              "      <td>0.928247</td>\n",
              "    </tr>\n",
              "    <tr>\n",
              "      <th>Unnamed: 0</th>\n",
              "      <td>1.000000</td>\n",
              "      <td>0.994224</td>\n",
              "      <td>1.000000</td>\n",
              "      <td>1.000000</td>\n",
              "      <td>0.922373</td>\n",
              "    </tr>\n",
              "    <tr>\n",
              "      <th>Year</th>\n",
              "      <td>1.000000</td>\n",
              "      <td>0.994224</td>\n",
              "      <td>1.000000</td>\n",
              "      <td>1.000000</td>\n",
              "      <td>0.922373</td>\n",
              "    </tr>\n",
              "    <tr>\n",
              "      <th>Value</th>\n",
              "      <td>0.922373</td>\n",
              "      <td>0.928247</td>\n",
              "      <td>0.922373</td>\n",
              "      <td>0.922373</td>\n",
              "      <td>1.000000</td>\n",
              "    </tr>\n",
              "  </tbody>\n",
              "</table>\n",
              "</div>"
            ],
            "text/plain": [
              "              Year:year  Value:number  Unnamed: 0      Year     Value\n",
              "Year:year      1.000000      0.994224    1.000000  1.000000  0.922373\n",
              "Value:number   0.994224      1.000000    0.994224  0.994224  0.928247\n",
              "Unnamed: 0     1.000000      0.994224    1.000000  1.000000  0.922373\n",
              "Year           1.000000      0.994224    1.000000  1.000000  0.922373\n",
              "Value          0.922373      0.928247    0.922373  0.922373  1.000000"
            ]
          },
          "metadata": {
            "tags": []
          },
          "execution_count": 35
        }
      ]
    },
    {
      "cell_type": "markdown",
      "metadata": {
        "id": "NC4AQ2PpVJSL",
        "colab_type": "text"
      },
      "source": [
        "##CH4"
      ]
    },
    {
      "cell_type": "code",
      "metadata": {
        "id": "wA5vH2b3VJE7",
        "colab_type": "code",
        "colab": {}
      },
      "source": [
        "CH4 = df_GES_TEMP[df_GES_TEMP['Polutant:text']=='CH4 (ppb)']"
      ],
      "execution_count": 0,
      "outputs": []
    },
    {
      "cell_type": "code",
      "metadata": {
        "id": "2-R8gttiVztV",
        "colab_type": "code",
        "outputId": "f106fb4f-057e-48c6-c6b9-9d1712e9e460",
        "colab": {
          "base_uri": "https://localhost:8080/",
          "height": 34
        }
      },
      "source": [
        "CH4.shape"
      ],
      "execution_count": 0,
      "outputs": [
        {
          "output_type": "execute_result",
          "data": {
            "text/plain": [
              "(43, 6)"
            ]
          },
          "metadata": {
            "tags": []
          },
          "execution_count": 13
        }
      ]
    },
    {
      "cell_type": "code",
      "metadata": {
        "id": "2V3EFd2cVywA",
        "colab_type": "code",
        "outputId": "1b9bcc88-9ed8-4bf7-e2b0-aa908bf79376",
        "colab": {
          "base_uri": "https://localhost:8080/",
          "height": 281
        }
      },
      "source": [
        "sns.scatterplot('Value:number','Value', data=CH4)\n",
        "plt.show()"
      ],
      "execution_count": 0,
      "outputs": [
        {
          "output_type": "display_data",
          "data": {
            "image/png": "[encoded data removed]",
            "text/plain": [
              "<Figure size 432x288 with 1 Axes>"
            ]
          },
          "metadata": {
            "tags": [],
            "needs_background": "light"
          }
        }
      ]
    },
    {
      "cell_type": "code",
      "metadata": {
        "id": "FRCLMC1TWdXO",
        "colab_type": "code",
        "outputId": "ed7e9eb7-fb39-4d74-9258-a2f2251b1c09",
        "colab": {
          "base_uri": "https://localhost:8080/",
          "height": 195
        }
      },
      "source": [
        "CH4.corr()"
      ],
      "execution_count": 0,
      "outputs": [
        {
          "output_type": "execute_result",
          "data": {
            "text/html": [
              "<div>\n",
              "<style scoped>\n",
              "    .dataframe tbody tr th:only-of-type {\n",
              "        vertical-align: middle;\n",
              "    }\n",
              "\n",
              "    .dataframe tbody tr th {\n",
              "        vertical-align: top;\n",
              "    }\n",
              "\n",
              "    .dataframe thead th {\n",
              "        text-align: right;\n",
              "    }\n",
              "</style>\n",
              "<table border=\"1\" class=\"dataframe\">\n",
              "  <thead>\n",
              "    <tr style=\"text-align: right;\">\n",
              "      <th></th>\n",
              "      <th>Year:year</th>\n",
              "      <th>Value:number</th>\n",
              "      <th>Unnamed: 0</th>\n",
              "      <th>Year</th>\n",
              "      <th>Value</th>\n",
              "    </tr>\n",
              "  </thead>\n",
              "  <tbody>\n",
              "    <tr>\n",
              "      <th>Year:year</th>\n",
              "      <td>1.000000</td>\n",
              "      <td>0.934836</td>\n",
              "      <td>1.000000</td>\n",
              "      <td>1.000000</td>\n",
              "      <td>0.918643</td>\n",
              "    </tr>\n",
              "    <tr>\n",
              "      <th>Value:number</th>\n",
              "      <td>0.934836</td>\n",
              "      <td>1.000000</td>\n",
              "      <td>0.934836</td>\n",
              "      <td>0.934836</td>\n",
              "      <td>0.817417</td>\n",
              "    </tr>\n",
              "    <tr>\n",
              "      <th>Unnamed: 0</th>\n",
              "      <td>1.000000</td>\n",
              "      <td>0.934836</td>\n",
              "      <td>1.000000</td>\n",
              "      <td>1.000000</td>\n",
              "      <td>0.918643</td>\n",
              "    </tr>\n",
              "    <tr>\n",
              "      <th>Year</th>\n",
              "      <td>1.000000</td>\n",
              "      <td>0.934836</td>\n",
              "      <td>1.000000</td>\n",
              "      <td>1.000000</td>\n",
              "      <td>0.918643</td>\n",
              "    </tr>\n",
              "    <tr>\n",
              "      <th>Value</th>\n",
              "      <td>0.918643</td>\n",
              "      <td>0.817417</td>\n",
              "      <td>0.918643</td>\n",
              "      <td>0.918643</td>\n",
              "      <td>1.000000</td>\n",
              "    </tr>\n",
              "  </tbody>\n",
              "</table>\n",
              "</div>"
            ],
            "text/plain": [
              "              Year:year  Value:number  Unnamed: 0      Year     Value\n",
              "Year:year      1.000000      0.934836    1.000000  1.000000  0.918643\n",
              "Value:number   0.934836      1.000000    0.934836  0.934836  0.817417\n",
              "Unnamed: 0     1.000000      0.934836    1.000000  1.000000  0.918643\n",
              "Year           1.000000      0.934836    1.000000  1.000000  0.918643\n",
              "Value          0.918643      0.817417    0.918643  0.918643  1.000000"
            ]
          },
          "metadata": {
            "tags": []
          },
          "execution_count": 20
        }
      ]
    },
    {
      "cell_type": "markdown",
      "metadata": {
        "id": "Jiyy_wOlVY7L",
        "colab_type": "text"
      },
      "source": [
        "##NO2"
      ]
    },
    {
      "cell_type": "code",
      "metadata": {
        "id": "f8wr7B2QzMt9",
        "colab_type": "code",
        "colab": {}
      },
      "source": [
        "N2O = df_GES_TEMP[df_GES_TEMP['Polutant:text']=='N2O (ppb)']"
      ],
      "execution_count": 0,
      "outputs": []
    },
    {
      "cell_type": "code",
      "metadata": {
        "id": "lRO_xllTVEfB",
        "colab_type": "code",
        "outputId": "8b6c787c-0957-442e-9a23-2e52e3d277a9",
        "colab": {
          "base_uri": "https://localhost:8080/",
          "height": 34
        }
      },
      "source": [
        "N2O.shape"
      ],
      "execution_count": 0,
      "outputs": [
        {
          "output_type": "execute_result",
          "data": {
            "text/plain": [
              "(43, 6)"
            ]
          },
          "metadata": {
            "tags": []
          },
          "execution_count": 17
        }
      ]
    },
    {
      "cell_type": "code",
      "metadata": {
        "id": "6-ANBK4EWMTi",
        "colab_type": "code",
        "outputId": "9170c8b4-05c7-40cf-b9f4-e599a8454aae",
        "colab": {
          "base_uri": "https://localhost:8080/",
          "height": 281
        }
      },
      "source": [
        "sns.scatterplot('Value:number','Value', data=N2O)\n",
        "plt.show()"
      ],
      "execution_count": 0,
      "outputs": [
        {
          "output_type": "display_data",
          "data": {
            "image/png": "[encoded data removed]",
            "text/plain": [
              "<Figure size 432x288 with 1 Axes>"
            ]
          },
          "metadata": {
            "tags": [],
            "needs_background": "light"
          }
        }
      ]
    },
    {
      "cell_type": "code",
      "metadata": {
        "id": "U2JS3XacWuWY",
        "colab_type": "code",
        "outputId": "8f2fb9be-6441-455d-b193-3c13293fe198",
        "colab": {
          "base_uri": "https://localhost:8080/",
          "height": 195
        }
      },
      "source": [
        "N2O.corr()"
      ],
      "execution_count": 0,
      "outputs": [
        {
          "output_type": "execute_result",
          "data": {
            "text/html": [
              "<div>\n",
              "<style scoped>\n",
              "    .dataframe tbody tr th:only-of-type {\n",
              "        vertical-align: middle;\n",
              "    }\n",
              "\n",
              "    .dataframe tbody tr th {\n",
              "        vertical-align: top;\n",
              "    }\n",
              "\n",
              "    .dataframe thead th {\n",
              "        text-align: right;\n",
              "    }\n",
              "</style>\n",
              "<table border=\"1\" class=\"dataframe\">\n",
              "  <thead>\n",
              "    <tr style=\"text-align: right;\">\n",
              "      <th></th>\n",
              "      <th>Year:year</th>\n",
              "      <th>Value:number</th>\n",
              "      <th>Unnamed: 0</th>\n",
              "      <th>Year</th>\n",
              "      <th>Value</th>\n",
              "    </tr>\n",
              "  </thead>\n",
              "  <tbody>\n",
              "    <tr>\n",
              "      <th>Year:year</th>\n",
              "      <td>1.000000</td>\n",
              "      <td>0.997321</td>\n",
              "      <td>1.000000</td>\n",
              "      <td>1.000000</td>\n",
              "      <td>0.918643</td>\n",
              "    </tr>\n",
              "    <tr>\n",
              "      <th>Value:number</th>\n",
              "      <td>0.997321</td>\n",
              "      <td>1.000000</td>\n",
              "      <td>0.997321</td>\n",
              "      <td>0.997321</td>\n",
              "      <td>0.921209</td>\n",
              "    </tr>\n",
              "    <tr>\n",
              "      <th>Unnamed: 0</th>\n",
              "      <td>1.000000</td>\n",
              "      <td>0.997321</td>\n",
              "      <td>1.000000</td>\n",
              "      <td>1.000000</td>\n",
              "      <td>0.918643</td>\n",
              "    </tr>\n",
              "    <tr>\n",
              "      <th>Year</th>\n",
              "      <td>1.000000</td>\n",
              "      <td>0.997321</td>\n",
              "      <td>1.000000</td>\n",
              "      <td>1.000000</td>\n",
              "      <td>0.918643</td>\n",
              "    </tr>\n",
              "    <tr>\n",
              "      <th>Value</th>\n",
              "      <td>0.918643</td>\n",
              "      <td>0.921209</td>\n",
              "      <td>0.918643</td>\n",
              "      <td>0.918643</td>\n",
              "      <td>1.000000</td>\n",
              "    </tr>\n",
              "  </tbody>\n",
              "</table>\n",
              "</div>"
            ],
            "text/plain": [
              "              Year:year  Value:number  Unnamed: 0      Year     Value\n",
              "Year:year      1.000000      0.997321    1.000000  1.000000  0.918643\n",
              "Value:number   0.997321      1.000000    0.997321  0.997321  0.921209\n",
              "Unnamed: 0     1.000000      0.997321    1.000000  1.000000  0.918643\n",
              "Year           1.000000      0.997321    1.000000  1.000000  0.918643\n",
              "Value          0.918643      0.921209    0.918643  0.918643  1.000000"
            ]
          },
          "metadata": {
            "tags": []
          },
          "execution_count": 21
        }
      ]
    },
    {
      "cell_type": "markdown",
      "metadata": {
        "id": "Gzdl2PpYWZaT",
        "colab_type": "text"
      },
      "source": [
        "#Représentation regressions linéaires/polynomiales"
      ]
    },
    {
      "cell_type": "markdown",
      "metadata": {
        "id": "12vJN7HuYG-d",
        "colab_type": "text"
      },
      "source": [
        "##CO2"
      ]
    },
    {
      "cell_type": "code",
      "metadata": {
        "id": "L9jEJ5ikTMGF",
        "colab_type": "code",
        "outputId": "59394687-730b-4730-e7dd-e4f2145198f3",
        "colab": {
          "base_uri": "https://localhost:8080/",
          "height": 310
        }
      },
      "source": [
        "sns.regplot('Value:number', 'Value', data=CO2, scatter_kws={'color' : 'C10'}, line_kws={'color' : 'C3'})\n",
        "plt.title('Rapport entre émissions de CO2 et \\n variation des températures globales entre 1965 et 2018')\n",
        "plt.ylabel('temperature (°C)')\n",
        "plt.xlabel('CO2 (ppm')\n",
        "plt.show()"
      ],
      "execution_count": 0,
      "outputs": [
        {
          "output_type": "display_data",
          "data": {
            "image/png": "[encoded data removed]",
            "text/plain": [
              "<Figure size 432x288 with 1 Axes>"
            ]
          },
          "metadata": {
            "tags": [],
            "needs_background": "light"
          }
        }
      ]
    },
    {
      "cell_type": "markdown",
      "metadata": {
        "id": "pHFxMwzKYKSM",
        "colab_type": "text"
      },
      "source": [
        "##NH4"
      ]
    },
    {
      "cell_type": "code",
      "metadata": {
        "id": "gIDHr7e4YJOD",
        "colab_type": "code",
        "outputId": "7376e09c-b99c-45b2-ee7b-27b935c2fd65",
        "colab": {
          "base_uri": "https://localhost:8080/",
          "height": 310
        }
      },
      "source": [
        "sns.regplot('Value:number', 'Value', data=CH4,order=2, scatter_kws={'color' : 'C10'}, line_kws={'color' : 'C3'})\n",
        "plt.title('Rapport entre émissions de CH4 et \\n variation des températures globales entre 1965 et 2018')\n",
        "plt.ylabel('temperature (°C)')\n",
        "plt.xlabel('CH4 (ppb)')\n",
        "plt.show()"
      ],
      "execution_count": 0,
      "outputs": [
        {
          "output_type": "display_data",
          "data": {
            "image/png": "[encoded data removed]",
            "text/plain": [
              "<Figure size 432x288 with 1 Axes>"
            ]
          },
          "metadata": {
            "tags": [],
            "needs_background": "light"
          }
        }
      ]
    },
    {
      "cell_type": "markdown",
      "metadata": {
        "id": "N4RWdRacZro9",
        "colab_type": "text"
      },
      "source": [
        "##N2O"
      ]
    },
    {
      "cell_type": "code",
      "metadata": {
        "id": "q0bAUZBlZ1ou",
        "colab_type": "code",
        "outputId": "044b9286-7685-4701-9abc-a6acdc9659dc",
        "colab": {
          "base_uri": "https://localhost:8080/",
          "height": 310
        }
      },
      "source": [
        "sns.regplot('Value:number', 'Value', data=N2O,order=2, scatter_kws={'color' : 'C10'}, line_kws={'color' : 'C3'})\n",
        "plt.title('Rapport entre émissions de N2O et \\n variation des températures globales entre 1965 et 2018')\n",
        "plt.ylabel('temperature (°C)')\n",
        "plt.xlabel('N2O (ppm)')\n",
        "plt.show()"
      ],
      "execution_count": 0,
      "outputs": [
        {
          "output_type": "display_data",
          "data": {
            "image/png": "[encoded data removed]",
            "text/plain": [
              "<Figure size 432x288 with 1 Axes>"
            ]
          },
          "metadata": {
            "tags": [],
            "needs_background": "light"
          }
        }
      ]
    },
    {
      "cell_type": "markdown",
      "metadata": {
        "id": "6tJIDvplaMSP",
        "colab_type": "text"
      },
      "source": [
        "#Previsions"
      ]
    },
    {
      "cell_type": "markdown",
      "metadata": {
        "id": "7WiUSx_MaPsz",
        "colab_type": "text"
      },
      "source": [
        "##CO2"
      ]
    },
    {
      "cell_type": "code",
      "metadata": {
        "id": "QE8FcxMAbEnL",
        "colab_type": "code",
        "colab": {}
      },
      "source": [
        "#prevision augmentation production co2\n",
        "x_prodco2 = CO2['Year']\n",
        "y_prodco2 = CO2['Value:number']\n",
        "model_prodco2 = np.polyfit(x_prodco2, y_prodco2, deg=2)"
      ],
      "execution_count": 0,
      "outputs": []
    },
    {
      "cell_type": "code",
      "metadata": {
        "id": "lgXmNvBJYN2c",
        "colab_type": "code",
        "colab": {}
      },
      "source": [
        "#prévision augmentation de la temperature avec co2\n",
        "x_tempco2 = CO2['Value:number']\n",
        "y_tempco2 = CO2['Value']\n",
        "model_tempco2 = np.polyfit(x_tempco2, y_tempco2 , deg=1)"
      ],
      "execution_count": 0,
      "outputs": []
    },
    {
      "cell_type": "markdown",
      "metadata": {
        "id": "38gIREaWfmWB",
        "colab_type": "text"
      },
      "source": [
        "##CH4"
      ]
    },
    {
      "cell_type": "code",
      "metadata": {
        "id": "NSWokXWRbHPY",
        "colab_type": "code",
        "colab": {}
      },
      "source": [
        "#prevision augmentation production ch4\n",
        "x_prodch4 = CH4['Year']\n",
        "y_prodch4 = CH4['Value:number']\n",
        "model_prodch4 = np.polyfit(x_prodch4, y_prodch4, deg=4)"
      ],
      "execution_count": 0,
      "outputs": []
    },
    {
      "cell_type": "code",
      "metadata": {
        "id": "TXLP84HWfYsB",
        "colab_type": "code",
        "colab": {}
      },
      "source": [
        "#prévision augmentation de la temperature avec ch4\n",
        "x_tempch4 = CH4['Value:number']\n",
        "y_tempch4 = CH4['Value']\n",
        "model_tempch4 = np.polyfit(x_tempch4, y_tempch4, deg=1)"
      ],
      "execution_count": 0,
      "outputs": []
    },
    {
      "cell_type": "markdown",
      "metadata": {
        "id": "qHs6C2rMfogP",
        "colab_type": "text"
      },
      "source": [
        "##N2O"
      ]
    },
    {
      "cell_type": "code",
      "metadata": {
        "id": "dD26jXQffTIs",
        "colab_type": "code",
        "colab": {}
      },
      "source": [
        "#prevision augmentation production n2o\n",
        "x_prodn2o = N2O['Year']\n",
        "y_prodn2o = N2O['Value:number']\n",
        "model_prodn2o = np.polyfit(x_prodn2o, y_prodn2o, deg=2)"
      ],
      "execution_count": 0,
      "outputs": []
    },
    {
      "cell_type": "code",
      "metadata": {
        "id": "lsjXZ7G3aPNF",
        "colab_type": "code",
        "colab": {}
      },
      "source": [
        "#prévision augmentation de la temperature avec n2o\n",
        "x_tempn2o = N2O['Value:number']\n",
        "y_tempn2o = N2O['Value']\n",
        "model_tempn2o = np.polyfit(x_tempn2o, y_tempn2o, deg=1)"
      ],
      "execution_count": 0,
      "outputs": []
    },
    {
      "cell_type": "code",
      "metadata": {
        "id": "TazXRbc4YbKV",
        "colab_type": "code",
        "colab": {}
      },
      "source": [
        "co2 = []\n",
        "temp_var_co2 = []\n",
        "ch4 = []\n",
        "temp_var_ch4 = []\n",
        "n2o = []\n",
        "temp_var_n2o = []\n",
        "\n",
        "for i in range (2020, 2110, 10):\n",
        "  Prod_CO2 = np.poly1d(model_prodco2)(i)\n",
        "  Prod_CH4 = np.poly1d(model_prodch4)(i)\n",
        "  Prod_N2O = np.poly1d(model_prodn2o)(i)\n",
        "  co2.append(Prod_CO2)\n",
        "  ch4.append(Prod_CH4)\n",
        "  n2o.append(Prod_N2O)\n",
        "  temp_var_co2.append(np.poly1d(model_tempco2)(Prod_CO2))\n",
        "  temp_var_ch4.append(np.poly1d(model_tempch4)(Prod_CH4))\n",
        "  temp_var_n2o.append(np.poly1d(model_tempn2o)(Prod_N2O))"
      ],
      "execution_count": 0,
      "outputs": []
    },
    {
      "cell_type": "code",
      "metadata": {
        "id": "NzdYC9b6goVi",
        "colab_type": "code",
        "colab": {}
      },
      "source": [
        "predics_GES_temp = pd.DataFrame(pd.Series([2020, 2030, 2040, 2050, 2060, 2070, 2080, 2090, 2100]))\n",
        "predics_GES_temp['co2_p'] = pd.Series(co2)\n",
        "predics_GES_temp['temp_var_co2'] = pd.Series(temp_var_co2)\n",
        "predics_GES_temp['ch4_p'] = pd.Series(ch4)\n",
        "predics_GES_temp['temp_var_ch4'] = pd.Series(temp_var_ch4)\n",
        "predics_GES_temp['n2o_p'] = pd.Series(n2o)\n",
        "predics_GES_temp['temp_var_n2o'] = pd.Series(temp_var_n2o)"
      ],
      "execution_count": 0,
      "outputs": []
    },
    {
      "cell_type": "code",
      "metadata": {
        "id": "vXdxPULahxhj",
        "colab_type": "code",
        "colab": {}
      },
      "source": [
        "predics_GES_temp['t_aug_moy'] = (predics_GES_temp['temp_var_co2']+predics_GES_temp['temp_var_n2o'])/2"
      ],
      "execution_count": 0,
      "outputs": []
    },
    {
      "cell_type": "code",
      "metadata": {
        "id": "RVKl5ssSia-r",
        "colab_type": "code",
        "colab": {}
      },
      "source": [
        "predics_GES_temp.rename(columns={0 :'year'}, inplace = True)"
      ],
      "execution_count": 0,
      "outputs": []
    },
    {
      "cell_type": "code",
      "metadata": {
        "id": "Jm84IuXQhRDN",
        "colab_type": "code",
        "outputId": "a8e9bf1a-e9f5-4a69-f855-30076cef3562",
        "colab": {
          "base_uri": "https://localhost:8080/",
          "height": 106
        }
      },
      "source": [
        "predics_GES_temp.head(2)"
      ],
      "execution_count": 0,
      "outputs": [
        {
          "output_type": "execute_result",
          "data": {
            "text/html": [
              "<div>\n",
              "<style scoped>\n",
              "    .dataframe tbody tr th:only-of-type {\n",
              "        vertical-align: middle;\n",
              "    }\n",
              "\n",
              "    .dataframe tbody tr th {\n",
              "        vertical-align: top;\n",
              "    }\n",
              "\n",
              "    .dataframe thead th {\n",
              "        text-align: right;\n",
              "    }\n",
              "</style>\n",
              "<table border=\"1\" class=\"dataframe\">\n",
              "  <thead>\n",
              "    <tr style=\"text-align: right;\">\n",
              "      <th></th>\n",
              "      <th>year</th>\n",
              "      <th>co2_p</th>\n",
              "      <th>temp_var_co2</th>\n",
              "      <th>ch4_p</th>\n",
              "      <th>temp_var_ch4</th>\n",
              "      <th>n2o_p</th>\n",
              "      <th>temp_var_n2o</th>\n",
              "      <th>t_aug_moy</th>\n",
              "    </tr>\n",
              "  </thead>\n",
              "  <tbody>\n",
              "    <tr>\n",
              "      <th>0</th>\n",
              "      <td>2020</td>\n",
              "      <td>410.981976</td>\n",
              "      <td>1.510184</td>\n",
              "      <td>1916.225205</td>\n",
              "      <td>1.301981</td>\n",
              "      <td>332.883124</td>\n",
              "      <td>1.478243</td>\n",
              "      <td>1.494214</td>\n",
              "    </tr>\n",
              "    <tr>\n",
              "      <th>1</th>\n",
              "      <td>2030</td>\n",
              "      <td>435.332646</td>\n",
              "      <td>1.952156</td>\n",
              "      <td>2356.024798</td>\n",
              "      <td>2.671058</td>\n",
              "      <td>342.431926</td>\n",
              "      <td>1.869403</td>\n",
              "      <td>1.910780</td>\n",
              "    </tr>\n",
              "  </tbody>\n",
              "</table>\n",
              "</div>"
            ],
            "text/plain": [
              "   year       co2_p  temp_var_co2  ...       n2o_p  temp_var_n2o  t_aug_moy\n",
              "0  2020  410.981976      1.510184  ...  332.883124      1.478243   1.494214\n",
              "1  2030  435.332646      1.952156  ...  342.431926      1.869403   1.910780\n",
              "\n",
              "[2 rows x 8 columns]"
            ]
          },
          "metadata": {
            "tags": []
          },
          "execution_count": 61
        }
      ]
    },
    {
      "cell_type": "code",
      "metadata": {
        "id": "ULvktSnwir_F",
        "colab_type": "code",
        "outputId": "008169ba-e398-4aab-f4f4-08bc9aca2a01",
        "colab": {
          "base_uri": "https://localhost:8080/",
          "height": 486
        }
      },
      "source": [
        "x_TEMP = TEMP['Year']\n",
        "y_TEMP = TEMP['Value']\n",
        "\n",
        "plt.figure(figsize=(15, 7.5))\n",
        "sns.lineplot(x_TEMP, y_TEMP, color='orange').grid(axis='y')\n",
        "\n",
        "plt.plot(predics_GES_temp['year'], predics_GES_temp['temp_var_co2'], linewidth=1.5, marker=True, linestyle='dashed', c='darkred', label=('Production de C02'))\n",
        "plt.plot(predics_GES_temp['year'], predics_GES_temp['temp_var_n2o'], linewidth=1.5, marker=True, linestyle='dashed', c='darkorange', label=('Production de N2O'))\n",
        "plt.plot(predics_GES_temp['year'], predics_GES_temp['t_aug_moy'], linewidth=1.5, marker=True, linestyle='dashed', c='firebrick', label=('Production de CO2 et de N2O')) \n",
        "\n",
        "plt.title('Projections pour l\\'augmentation de la température globale d\\'ici 2100 en fonction des émissions de GES')\n",
        "plt.xlabel(\"Années\")\n",
        "plt.ylabel('Variation de température (°C)')\n",
        "plt.legend()\n",
        "\n",
        "sns.despine(top=True)\n",
        "plt.show()"
      ],
      "execution_count": 0,
      "outputs": [
        {
          "output_type": "display_data",
          "data": {
            "image/png": "[encoded data removed]",
            "text/plain": [
              "<Figure size 1080x540 with 1 Axes>"
            ]
          },
          "metadata": {
            "tags": [],
            "needs_background": "light"
          }
        }
      ]
    },
    {
      "cell_type": "code",
      "metadata": {
        "id": "8QXmMs4yeTut",
        "colab_type": "code",
        "colab": {}
      },
      "source": [
        "# augmentation de la température si produ de chaque augmente (et moyenne des 3 tp)\n",
        "#df[aug_moy] = (temp_var_co2 + temp_var_ch4 +temp_var_n2o)/3"
      ],
      "execution_count": 0,
      "outputs": []
    }
  ]
}