{
  "nbformat": 4,
  "nbformat_minor": 0,
  "metadata": {
    "colab": {
      "name": "FAO_change_TempGLOBAL.ipynb",
      "provenance": [],
      "collapsed_sections": [],
      "authorship_tag": "ABX9TyMmWQRbVzTLIDQly9Kt5b+Q"
    },
    "kernelspec": {
      "name": "python3",
      "display_name": "Python 3"
    }
  },
  "cells": [
    {
      "cell_type": "code",
      "metadata": {
        "id": "MKSNbtgH9IIw",
        "colab_type": "code",
        "colab": {}
      },
      "source": [
        "import pandas as pd"
      ],
      "execution_count": 0,
      "outputs": []
    },
    {
      "cell_type": "code",
      "metadata": {
        "id": "DYyfEOQlXUVm",
        "colab_type": "code",
        "outputId": "0cdafced-d61e-45c5-d49c-8d220d6cefb5",
        "colab": {
          "base_uri": "https://localhost:8080/",
          "height": 70
        }
      },
      "source": [
        "import seaborn as sns\n",
        "import matplotlib.pyplot as plt"
      ],
      "execution_count": 0,
      "outputs": [
        {
          "output_type": "stream",
          "text": [
            "/usr/local/lib/python3.6/dist-packages/statsmodels/tools/_testing.py:19: FutureWarning: pandas.util.testing is deprecated. Use the functions in the public API at pandas.testing instead.\n",
            "  import pandas.util.testing as tm\n"
          ],
          "name": "stderr"
        }
      ]
    },
    {
      "cell_type": "code",
      "metadata": {
        "id": "KKLrqbge9LA8",
        "colab_type": "code",
        "colab": {}
      },
      "source": [
        "#import excel depuis le drive\n",
        "from google.colab import auth\n",
        "auth.authenticate_user()\n",
        "import gspread\n",
        "from oauth2client.client import GoogleCredentials\n",
        "gc = gspread.authorize(GoogleCredentials.get_application_default())"
      ],
      "execution_count": 0,
      "outputs": []
    },
    {
      "cell_type": "code",
      "metadata": {
        "id": "FXUT9a7hTUuV",
        "colab_type": "code",
        "colab": {}
      },
      "source": [
        "FAOstat_4 = gc.open_by_url('https://docs.google.com/spreadsheets/d/15bqMELKNOYTaPntdoy1FStUuZu4J6eQ1lpTh8XC7cmg/edit#gid=139383688')"
      ],
      "execution_count": 0,
      "outputs": []
    },
    {
      "cell_type": "code",
      "metadata": {
        "id": "8aFIrpNQTpLH",
        "colab_type": "code",
        "colab": {}
      },
      "source": [
        "temp_change = FAOstat_4 .worksheet('FAOSTAT_data_4-15-2020')\n",
        "temp_change = temp_change.get_all_values()\n",
        "temp_change  = pd.DataFrame(temp_change)"
      ],
      "execution_count": 0,
      "outputs": []
    },
    {
      "cell_type": "code",
      "metadata": {
        "id": "w9rOJmfHUB3v",
        "colab_type": "code",
        "outputId": "39d20584-f5ff-48ed-c9fa-d2aba7bc7ae3",
        "colab": {
          "base_uri": "https://localhost:8080/",
          "height": 34
        }
      },
      "source": [
        "type(temp_change)"
      ],
      "execution_count": 0,
      "outputs": [
        {
          "output_type": "execute_result",
          "data": {
            "text/plain": [
              "pandas.core.frame.DataFrame"
            ]
          },
          "metadata": {
            "tags": []
          },
          "execution_count": 10
        }
      ]
    },
    {
      "cell_type": "code",
      "metadata": {
        "id": "xZA3WLtwUUaP",
        "colab_type": "code",
        "outputId": "c8500593-1353-4723-a985-a468e22509f7",
        "colab": {
          "base_uri": "https://localhost:8080/",
          "height": 195
        }
      },
      "source": [
        "temp_change.head()"
      ],
      "execution_count": 0,
      "outputs": [
        {
          "output_type": "execute_result",
          "data": {
            "text/html": [
              "<div>\n",
              "<style scoped>\n",
              "    .dataframe tbody tr th:only-of-type {\n",
              "        vertical-align: middle;\n",
              "    }\n",
              "\n",
              "    .dataframe tbody tr th {\n",
              "        vertical-align: top;\n",
              "    }\n",
              "\n",
              "    .dataframe thead th {\n",
              "        text-align: right;\n",
              "    }\n",
              "</style>\n",
              "<table border=\"1\" class=\"dataframe\">\n",
              "  <thead>\n",
              "    <tr style=\"text-align: right;\">\n",
              "      <th></th>\n",
              "      <th>0</th>\n",
              "      <th>1</th>\n",
              "      <th>2</th>\n",
              "      <th>3</th>\n",
              "      <th>4</th>\n",
              "      <th>5</th>\n",
              "      <th>6</th>\n",
              "      <th>7</th>\n",
              "      <th>8</th>\n",
              "      <th>9</th>\n",
              "      <th>10</th>\n",
              "      <th>11</th>\n",
              "      <th>12</th>\n",
              "      <th>13</th>\n",
              "    </tr>\n",
              "  </thead>\n",
              "  <tbody>\n",
              "    <tr>\n",
              "      <th>0</th>\n",
              "      <td>Domain Code</td>\n",
              "      <td>Domain</td>\n",
              "      <td>Area Code</td>\n",
              "      <td>Area</td>\n",
              "      <td>Element Code</td>\n",
              "      <td>Element</td>\n",
              "      <td>Months Code</td>\n",
              "      <td>Months</td>\n",
              "      <td>Year Code</td>\n",
              "      <td>Year</td>\n",
              "      <td>Unit</td>\n",
              "      <td>Value</td>\n",
              "      <td>Flag</td>\n",
              "      <td>Flag Description</td>\n",
              "    </tr>\n",
              "    <tr>\n",
              "      <th>1</th>\n",
              "      <td>ET</td>\n",
              "      <td>Temperature change</td>\n",
              "      <td>5000</td>\n",
              "      <td>World</td>\n",
              "      <td>7271</td>\n",
              "      <td>Temperature change</td>\n",
              "      <td>7020</td>\n",
              "      <td>Meteorological year</td>\n",
              "      <td>1961</td>\n",
              "      <td>1961</td>\n",
              "      <td>°C</td>\n",
              "      <td>0.207</td>\n",
              "      <td>Fc</td>\n",
              "      <td>Calculated data</td>\n",
              "    </tr>\n",
              "    <tr>\n",
              "      <th>2</th>\n",
              "      <td>ET</td>\n",
              "      <td>Temperature change</td>\n",
              "      <td>5000</td>\n",
              "      <td>World</td>\n",
              "      <td>7271</td>\n",
              "      <td>Temperature change</td>\n",
              "      <td>7020</td>\n",
              "      <td>Meteorological year</td>\n",
              "      <td>1962</td>\n",
              "      <td>1962</td>\n",
              "      <td>°C</td>\n",
              "      <td>0.034</td>\n",
              "      <td>Fc</td>\n",
              "      <td>Calculated data</td>\n",
              "    </tr>\n",
              "    <tr>\n",
              "      <th>3</th>\n",
              "      <td>ET</td>\n",
              "      <td>Temperature change</td>\n",
              "      <td>5000</td>\n",
              "      <td>World</td>\n",
              "      <td>7271</td>\n",
              "      <td>Temperature change</td>\n",
              "      <td>7020</td>\n",
              "      <td>Meteorological year</td>\n",
              "      <td>1963</td>\n",
              "      <td>1963</td>\n",
              "      <td>°C</td>\n",
              "      <td>0.159</td>\n",
              "      <td>Fc</td>\n",
              "      <td>Calculated data</td>\n",
              "    </tr>\n",
              "    <tr>\n",
              "      <th>4</th>\n",
              "      <td>ET</td>\n",
              "      <td>Temperature change</td>\n",
              "      <td>5000</td>\n",
              "      <td>World</td>\n",
              "      <td>7271</td>\n",
              "      <td>Temperature change</td>\n",
              "      <td>7020</td>\n",
              "      <td>Meteorological year</td>\n",
              "      <td>1964</td>\n",
              "      <td>1964</td>\n",
              "      <td>°C</td>\n",
              "      <td>-0.253</td>\n",
              "      <td>Fc</td>\n",
              "      <td>Calculated data</td>\n",
              "    </tr>\n",
              "  </tbody>\n",
              "</table>\n",
              "</div>"
            ],
            "text/plain": [
              "            0                   1          2   ...      11    12                13\n",
              "0  Domain Code              Domain  Area Code  ...   Value  Flag  Flag Description\n",
              "1           ET  Temperature change       5000  ...   0.207    Fc   Calculated data\n",
              "2           ET  Temperature change       5000  ...   0.034    Fc   Calculated data\n",
              "3           ET  Temperature change       5000  ...   0.159    Fc   Calculated data\n",
              "4           ET  Temperature change       5000  ...  -0.253    Fc   Calculated data\n",
              "\n",
              "[5 rows x 14 columns]"
            ]
          },
          "metadata": {
            "tags": []
          },
          "execution_count": 6
        }
      ]
    },
    {
      "cell_type": "code",
      "metadata": {
        "id": "EttBye6gUxWW",
        "colab_type": "code",
        "colab": {}
      },
      "source": [
        "temp_change.columns = temp_change.iloc[0]"
      ],
      "execution_count": 0,
      "outputs": []
    },
    {
      "cell_type": "code",
      "metadata": {
        "id": "8H_V8dMCVnS_",
        "colab_type": "code",
        "outputId": "4a8a5d63-9134-466c-c239-8a27179bf652",
        "colab": {
          "base_uri": "https://localhost:8080/",
          "height": 195
        }
      },
      "source": [
        "temp_change.head()"
      ],
      "execution_count": 0,
      "outputs": [
        {
          "output_type": "execute_result",
          "data": {
            "text/html": [
              "<div>\n",
              "<style scoped>\n",
              "    .dataframe tbody tr th:only-of-type {\n",
              "        vertical-align: middle;\n",
              "    }\n",
              "\n",
              "    .dataframe tbody tr th {\n",
              "        vertical-align: top;\n",
              "    }\n",
              "\n",
              "    .dataframe thead th {\n",
              "        text-align: right;\n",
              "    }\n",
              "</style>\n",
              "<table border=\"1\" class=\"dataframe\">\n",
              "  <thead>\n",
              "    <tr style=\"text-align: right;\">\n",
              "      <th></th>\n",
              "      <th>Domain Code</th>\n",
              "      <th>Domain</th>\n",
              "      <th>Area Code</th>\n",
              "      <th>Area</th>\n",
              "      <th>Element Code</th>\n",
              "      <th>Element</th>\n",
              "      <th>Months Code</th>\n",
              "      <th>Months</th>\n",
              "      <th>Year Code</th>\n",
              "      <th>Year</th>\n",
              "      <th>Unit</th>\n",
              "      <th>Value</th>\n",
              "      <th>Flag</th>\n",
              "      <th>Flag Description</th>\n",
              "    </tr>\n",
              "  </thead>\n",
              "  <tbody>\n",
              "    <tr>\n",
              "      <th>0</th>\n",
              "      <td>Domain Code</td>\n",
              "      <td>Domain</td>\n",
              "      <td>Area Code</td>\n",
              "      <td>Area</td>\n",
              "      <td>Element Code</td>\n",
              "      <td>Element</td>\n",
              "      <td>Months Code</td>\n",
              "      <td>Months</td>\n",
              "      <td>Year Code</td>\n",
              "      <td>Year</td>\n",
              "      <td>Unit</td>\n",
              "      <td>Value</td>\n",
              "      <td>Flag</td>\n",
              "      <td>Flag Description</td>\n",
              "    </tr>\n",
              "    <tr>\n",
              "      <th>1</th>\n",
              "      <td>ET</td>\n",
              "      <td>Temperature change</td>\n",
              "      <td>5000</td>\n",
              "      <td>World</td>\n",
              "      <td>7271</td>\n",
              "      <td>Temperature change</td>\n",
              "      <td>7020</td>\n",
              "      <td>Meteorological year</td>\n",
              "      <td>1961</td>\n",
              "      <td>1961</td>\n",
              "      <td>°C</td>\n",
              "      <td>0.207</td>\n",
              "      <td>Fc</td>\n",
              "      <td>Calculated data</td>\n",
              "    </tr>\n",
              "    <tr>\n",
              "      <th>2</th>\n",
              "      <td>ET</td>\n",
              "      <td>Temperature change</td>\n",
              "      <td>5000</td>\n",
              "      <td>World</td>\n",
              "      <td>7271</td>\n",
              "      <td>Temperature change</td>\n",
              "      <td>7020</td>\n",
              "      <td>Meteorological year</td>\n",
              "      <td>1962</td>\n",
              "      <td>1962</td>\n",
              "      <td>°C</td>\n",
              "      <td>0.034</td>\n",
              "      <td>Fc</td>\n",
              "      <td>Calculated data</td>\n",
              "    </tr>\n",
              "    <tr>\n",
              "      <th>3</th>\n",
              "      <td>ET</td>\n",
              "      <td>Temperature change</td>\n",
              "      <td>5000</td>\n",
              "      <td>World</td>\n",
              "      <td>7271</td>\n",
              "      <td>Temperature change</td>\n",
              "      <td>7020</td>\n",
              "      <td>Meteorological year</td>\n",
              "      <td>1963</td>\n",
              "      <td>1963</td>\n",
              "      <td>°C</td>\n",
              "      <td>0.159</td>\n",
              "      <td>Fc</td>\n",
              "      <td>Calculated data</td>\n",
              "    </tr>\n",
              "    <tr>\n",
              "      <th>4</th>\n",
              "      <td>ET</td>\n",
              "      <td>Temperature change</td>\n",
              "      <td>5000</td>\n",
              "      <td>World</td>\n",
              "      <td>7271</td>\n",
              "      <td>Temperature change</td>\n",
              "      <td>7020</td>\n",
              "      <td>Meteorological year</td>\n",
              "      <td>1964</td>\n",
              "      <td>1964</td>\n",
              "      <td>°C</td>\n",
              "      <td>-0.253</td>\n",
              "      <td>Fc</td>\n",
              "      <td>Calculated data</td>\n",
              "    </tr>\n",
              "  </tbody>\n",
              "</table>\n",
              "</div>"
            ],
            "text/plain": [
              "0  Domain Code              Domain  Area Code  ...   Value  Flag  Flag Description\n",
              "0  Domain Code              Domain  Area Code  ...   Value  Flag  Flag Description\n",
              "1           ET  Temperature change       5000  ...   0.207    Fc   Calculated data\n",
              "2           ET  Temperature change       5000  ...   0.034    Fc   Calculated data\n",
              "3           ET  Temperature change       5000  ...   0.159    Fc   Calculated data\n",
              "4           ET  Temperature change       5000  ...  -0.253    Fc   Calculated data\n",
              "\n",
              "[5 rows x 14 columns]"
            ]
          },
          "metadata": {
            "tags": []
          },
          "execution_count": 11
        }
      ]
    },
    {
      "cell_type": "code",
      "metadata": {
        "id": "DhDB2dAKVkQX",
        "colab_type": "code",
        "colab": {}
      },
      "source": [
        "temp_change.drop(0, axis=0, inplace=True)"
      ],
      "execution_count": 0,
      "outputs": []
    },
    {
      "cell_type": "code",
      "metadata": {
        "id": "s69Uig-VV29I",
        "colab_type": "code",
        "outputId": "7caf8f8a-b276-46b3-efee-d212d14c2e38",
        "colab": {
          "base_uri": "https://localhost:8080/",
          "height": 195
        }
      },
      "source": [
        "temp_change.head()"
      ],
      "execution_count": 0,
      "outputs": [
        {
          "output_type": "execute_result",
          "data": {
            "text/html": [
              "<div>\n",
              "<style scoped>\n",
              "    .dataframe tbody tr th:only-of-type {\n",
              "        vertical-align: middle;\n",
              "    }\n",
              "\n",
              "    .dataframe tbody tr th {\n",
              "        vertical-align: top;\n",
              "    }\n",
              "\n",
              "    .dataframe thead th {\n",
              "        text-align: right;\n",
              "    }\n",
              "</style>\n",
              "<table border=\"1\" class=\"dataframe\">\n",
              "  <thead>\n",
              "    <tr style=\"text-align: right;\">\n",
              "      <th></th>\n",
              "      <th>Domain Code</th>\n",
              "      <th>Domain</th>\n",
              "      <th>Area Code</th>\n",
              "      <th>Area</th>\n",
              "      <th>Element Code</th>\n",
              "      <th>Element</th>\n",
              "      <th>Months Code</th>\n",
              "      <th>Months</th>\n",
              "      <th>Year Code</th>\n",
              "      <th>Year</th>\n",
              "      <th>Unit</th>\n",
              "      <th>Value</th>\n",
              "      <th>Flag</th>\n",
              "      <th>Flag Description</th>\n",
              "    </tr>\n",
              "  </thead>\n",
              "  <tbody>\n",
              "    <tr>\n",
              "      <th>1</th>\n",
              "      <td>ET</td>\n",
              "      <td>Temperature change</td>\n",
              "      <td>5000</td>\n",
              "      <td>World</td>\n",
              "      <td>7271</td>\n",
              "      <td>Temperature change</td>\n",
              "      <td>7020</td>\n",
              "      <td>Meteorological year</td>\n",
              "      <td>1961</td>\n",
              "      <td>1961</td>\n",
              "      <td>°C</td>\n",
              "      <td>0.207</td>\n",
              "      <td>Fc</td>\n",
              "      <td>Calculated data</td>\n",
              "    </tr>\n",
              "    <tr>\n",
              "      <th>2</th>\n",
              "      <td>ET</td>\n",
              "      <td>Temperature change</td>\n",
              "      <td>5000</td>\n",
              "      <td>World</td>\n",
              "      <td>7271</td>\n",
              "      <td>Temperature change</td>\n",
              "      <td>7020</td>\n",
              "      <td>Meteorological year</td>\n",
              "      <td>1962</td>\n",
              "      <td>1962</td>\n",
              "      <td>°C</td>\n",
              "      <td>0.034</td>\n",
              "      <td>Fc</td>\n",
              "      <td>Calculated data</td>\n",
              "    </tr>\n",
              "    <tr>\n",
              "      <th>3</th>\n",
              "      <td>ET</td>\n",
              "      <td>Temperature change</td>\n",
              "      <td>5000</td>\n",
              "      <td>World</td>\n",
              "      <td>7271</td>\n",
              "      <td>Temperature change</td>\n",
              "      <td>7020</td>\n",
              "      <td>Meteorological year</td>\n",
              "      <td>1963</td>\n",
              "      <td>1963</td>\n",
              "      <td>°C</td>\n",
              "      <td>0.159</td>\n",
              "      <td>Fc</td>\n",
              "      <td>Calculated data</td>\n",
              "    </tr>\n",
              "    <tr>\n",
              "      <th>4</th>\n",
              "      <td>ET</td>\n",
              "      <td>Temperature change</td>\n",
              "      <td>5000</td>\n",
              "      <td>World</td>\n",
              "      <td>7271</td>\n",
              "      <td>Temperature change</td>\n",
              "      <td>7020</td>\n",
              "      <td>Meteorological year</td>\n",
              "      <td>1964</td>\n",
              "      <td>1964</td>\n",
              "      <td>°C</td>\n",
              "      <td>-0.253</td>\n",
              "      <td>Fc</td>\n",
              "      <td>Calculated data</td>\n",
              "    </tr>\n",
              "    <tr>\n",
              "      <th>5</th>\n",
              "      <td>ET</td>\n",
              "      <td>Temperature change</td>\n",
              "      <td>5000</td>\n",
              "      <td>World</td>\n",
              "      <td>7271</td>\n",
              "      <td>Temperature change</td>\n",
              "      <td>7020</td>\n",
              "      <td>Meteorological year</td>\n",
              "      <td>1965</td>\n",
              "      <td>1965</td>\n",
              "      <td>°C</td>\n",
              "      <td>-0.226</td>\n",
              "      <td>Fc</td>\n",
              "      <td>Calculated data</td>\n",
              "    </tr>\n",
              "  </tbody>\n",
              "</table>\n",
              "</div>"
            ],
            "text/plain": [
              "0 Domain Code              Domain Area Code  ...   Value Flag Flag Description\n",
              "1          ET  Temperature change      5000  ...   0.207   Fc  Calculated data\n",
              "2          ET  Temperature change      5000  ...   0.034   Fc  Calculated data\n",
              "3          ET  Temperature change      5000  ...   0.159   Fc  Calculated data\n",
              "4          ET  Temperature change      5000  ...  -0.253   Fc  Calculated data\n",
              "5          ET  Temperature change      5000  ...  -0.226   Fc  Calculated data\n",
              "\n",
              "[5 rows x 14 columns]"
            ]
          },
          "metadata": {
            "tags": []
          },
          "execution_count": 9
        }
      ]
    },
    {
      "cell_type": "code",
      "metadata": {
        "id": "IYL0Xzx1V_8S",
        "colab_type": "code",
        "colab": {}
      },
      "source": [
        "col1 = temp_change['Year']\n",
        "col2 = temp_change['Value']\n",
        "temp_change_C_graph = pd.concat([col1 , col2], axis=1, keys=['Year', 'Value']).copy()"
      ],
      "execution_count": 0,
      "outputs": []
    },
    {
      "cell_type": "code",
      "metadata": {
        "id": "j7EOgDNdXOcZ",
        "colab_type": "code",
        "outputId": "d481ca2a-19d1-4c12-9835-8b18a89fc320",
        "colab": {
          "base_uri": "https://localhost:8080/",
          "height": 195
        }
      },
      "source": [
        "temp_change_C_graph.head()"
      ],
      "execution_count": 0,
      "outputs": [
        {
          "output_type": "execute_result",
          "data": {
            "text/html": [
              "<div>\n",
              "<style scoped>\n",
              "    .dataframe tbody tr th:only-of-type {\n",
              "        vertical-align: middle;\n",
              "    }\n",
              "\n",
              "    .dataframe tbody tr th {\n",
              "        vertical-align: top;\n",
              "    }\n",
              "\n",
              "    .dataframe thead th {\n",
              "        text-align: right;\n",
              "    }\n",
              "</style>\n",
              "<table border=\"1\" class=\"dataframe\">\n",
              "  <thead>\n",
              "    <tr style=\"text-align: right;\">\n",
              "      <th></th>\n",
              "      <th>Year</th>\n",
              "      <th>Value</th>\n",
              "    </tr>\n",
              "  </thead>\n",
              "  <tbody>\n",
              "    <tr>\n",
              "      <th>1</th>\n",
              "      <td>1961</td>\n",
              "      <td>0.207</td>\n",
              "    </tr>\n",
              "    <tr>\n",
              "      <th>2</th>\n",
              "      <td>1962</td>\n",
              "      <td>0.034</td>\n",
              "    </tr>\n",
              "    <tr>\n",
              "      <th>3</th>\n",
              "      <td>1963</td>\n",
              "      <td>0.159</td>\n",
              "    </tr>\n",
              "    <tr>\n",
              "      <th>4</th>\n",
              "      <td>1964</td>\n",
              "      <td>-0.253</td>\n",
              "    </tr>\n",
              "    <tr>\n",
              "      <th>5</th>\n",
              "      <td>1965</td>\n",
              "      <td>-0.226</td>\n",
              "    </tr>\n",
              "  </tbody>\n",
              "</table>\n",
              "</div>"
            ],
            "text/plain": [
              "   Year   Value\n",
              "1  1961   0.207\n",
              "2  1962   0.034\n",
              "3  1963   0.159\n",
              "4  1964  -0.253\n",
              "5  1965  -0.226"
            ]
          },
          "metadata": {
            "tags": []
          },
          "execution_count": 11
        }
      ]
    },
    {
      "cell_type": "code",
      "metadata": {
        "id": "lTXUJ1pvYX4E",
        "colab_type": "code",
        "outputId": "6bb75ef8-146f-4d85-c951-75db834dbe46",
        "colab": {
          "base_uri": "https://localhost:8080/",
          "height": 67
        }
      },
      "source": [
        "temp_change_C_graph['Year'] = temp_change_C_graph['Year'].astype('int')\n",
        "temp_change_C_graph['Value'] = temp_change_C_graph['Value'].astype('float')\n",
        "temp_change_C_graph.dtypes"
      ],
      "execution_count": 0,
      "outputs": [
        {
          "output_type": "execute_result",
          "data": {
            "text/plain": [
              "Year       int64\n",
              "Value    float64\n",
              "dtype: object"
            ]
          },
          "metadata": {
            "tags": []
          },
          "execution_count": 13
        }
      ]
    },
    {
      "cell_type": "markdown",
      "metadata": {
        "id": "gDm6W0rd6Xsr",
        "colab_type": "text"
      },
      "source": [
        "The FAOSTAT Temperature Change domain disseminates statistics of mean surface temperature change by country, with annual updates. The current dissemination covers the period 1961–2019. Statistics are available for monthly, seasonal and annual mean temperature anomalies, i.e., temperature change with respect to a baseline climatology, corresponding to the period 1951–1980. The standard deviation of the temperature change of the baseline methodology is also available. Data are based on the publicly available GISTEMP data, the Global Surface Temperature Change data distributed by the National Aeronautics and Space Administration Goddard Institute for Space Studies (NASA-GISS). Show Less\n",
        "\n",
        "Food and Agriculture Organization of the United Nations (FAO)"
      ]
    },
    {
      "cell_type": "code",
      "metadata": {
        "id": "SClcE53_XdFW",
        "colab_type": "code",
        "outputId": "1778a7b8-11ad-4e39-b3c9-fcbbd2cbf504",
        "colab": {
          "base_uri": "https://localhost:8080/",
          "height": 525
        }
      },
      "source": [
        "plt.figure(figsize=(15, 7.5))\n",
        "g_temp = sns.lineplot(temp_change_C_graph['Year'], temp_change_C_graph['Value'], data=temp_change_C_graph, palette='cubehelix').grid(axis=\"x\")\n",
        "\n",
        "plt.title('Variations de la température globale depuis 1961', fontsize=14)\n",
        "plt.ylabel('Variations de température (°C)')\n",
        "plt.xlabel('Années')\n",
        "\n",
        "plt.figtext(0.33, 0, \n",
        "            'Dataset : Food and Agriculture Organization of the United Nations (FAO) / datas : National Aeronautics and Space Administration Goddard Institute for Space Studies (NASA-GISS)',\n",
        "            fontsize=7)\n",
        "\n",
        "plt.show()"
      ],
      "execution_count": 0,
      "outputs": [
        {
          "output_type": "display_data",
          "data": {
            "image/png": "[encoded data removed]",
            "text/plain": [
              "<Figure size 1080x540 with 1 Axes>"
            ]
          },
          "metadata": {
            "tags": []
          }
        }
      ]
    },
    {
      "cell_type": "code",
      "metadata": {
        "id": "axu95m7mhelQ",
        "colab_type": "code",
        "outputId": "dcfa9ff8-cf13-4ce4-ce20-af9e56208a0c",
        "colab": {
          "base_uri": "https://localhost:8080/",
          "height": 34
        }
      },
      "source": [
        "#export du df pour données graphique\n",
        "from google.colab import drive\n",
        "drive.mount('drive')\n",
        "\n",
        "temp_change_C_graph.to_csv('Global_temp_anomaly.csv')\n",
        "!cp Global_temp_anomaly.csv \"drive/My Drive/\""
      ],
      "execution_count": 0,
      "outputs": [
        {
          "output_type": "stream",
          "text": [
            "Drive already mounted at drive; to attempt to forcibly remount, call drive.mount(\"drive\", force_remount=True).\n"
          ],
          "name": "stdout"
        }
      ]
    }
  ]
}