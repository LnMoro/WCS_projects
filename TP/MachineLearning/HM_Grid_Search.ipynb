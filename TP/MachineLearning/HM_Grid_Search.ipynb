{
  "nbformat": 4,
  "nbformat_minor": 0,
  "metadata": {
    "colab": {
      "name": "HM_Grid Search.ipynb",
      "provenance": [],
      "collapsed_sections": []
    },
    "kernelspec": {
      "name": "python3",
      "display_name": "Python 3"
    }
  },
  "cells": [
    {
      "cell_type": "markdown",
      "metadata": {
        "id": "_78bbd3rM3C8",
        "colab_type": "text"
      },
      "source": [
        "Tu vas effectuer une classification supervisée sur la colonne \"survived\", en utilisant le classifieur decision tree. Tu dois faire apparaitre clairement l'accuracy score du jeu de test.\n",
        "\n",
        "•\n",
        "Avec ce même classifieur, tu vas lancer une GridSearch avec les valeurs (2, 3, 5, 10) du paramètre max_depth, et avec les valeurs (1, 3, 5, 10) du paramètre min_samples_leaf. Le scoring doit être l'accuracy score.\n",
        "\n",
        "•\n",
        "Avec cette recherche via GridSearch, quelles sont le meilleures valeurs des  hyperparamètres si on cherche à maximiser l'accuracy score ?\n",
        "\n",
        "•\n",
        "Avec ce même classifieur, tu vas lancer un RandomSearch sur les paramètres max_depth et min_samples_leaf.\n",
        "\n",
        "•\n",
        "Avec cette recherche via RandomSearch, quelles sont le meilleures valeurs des  hyperparamètres si on cherche à maximiser l'accuracy score ?"
      ]
    },
    {
      "cell_type": "code",
      "metadata": {
        "id": "YPjtVtuLNK97",
        "colab_type": "code",
        "colab": {}
      },
      "source": [
        "import pandas as pd\n",
        "import numpy as np\n",
        "\n",
        "from sklearn.preprocessing import LabelEncoder\n",
        "\n",
        "from sklearn.model_selection import train_test_split\n",
        "from sklearn.tree import DecisionTreeClassifier\n",
        "from sklearn.metrics import accuracy_score\n",
        "\n",
        "from sklearn.model_selection import GridSearchCV, RandomizedSearchCV"
      ],
      "execution_count": 0,
      "outputs": []
    },
    {
      "cell_type": "markdown",
      "metadata": {
        "id": "Kkh6oP-0M9Nb",
        "colab_type": "text"
      },
      "source": [
        "# Import du dataset"
      ]
    },
    {
      "cell_type": "code",
      "metadata": {
        "id": "5s14WV42M2eW",
        "colab_type": "code",
        "colab": {}
      },
      "source": [
        "from pydrive.auth import GoogleAuth\n",
        "from pydrive.drive import GoogleDrive\n",
        "from google.colab import auth\n",
        "from oauth2client.client import GoogleCredentials\n",
        " \n",
        "# Authentification Google\n",
        "auth.authenticate_user()\n",
        "gauth = GoogleAuth()\n",
        "gauth.credentials = GoogleCredentials.get_application_default()\n",
        "drive = GoogleDrive(gauth)\n",
        " \n",
        "# Download du fichier\n",
        "id = '1CmJRYacimunpj7EUAic4LZL-dmZkUXjF'\n",
        "downloaded = drive.CreateFile({'id': '1CmJRYacimunpj7EUAic4LZL-dmZkUXjF'})\n",
        "downloaded.GetContentFile('titanic.csv')"
      ],
      "execution_count": 0,
      "outputs": []
    },
    {
      "cell_type": "code",
      "metadata": {
        "id": "i2zqPO1BNAyb",
        "colab_type": "code",
        "outputId": "007fda53-493d-40f3-c51b-2baf51940d2c",
        "colab": {
          "base_uri": "https://localhost:8080/",
          "height": 195
        }
      },
      "source": [
        "df_titanic = pd.read_csv('titanic.csv')\n",
        "df_titanic.head()"
      ],
      "execution_count": 0,
      "outputs": [
        {
          "output_type": "execute_result",
          "data": {
            "text/html": [
              "<div>\n",
              "<style scoped>\n",
              "    .dataframe tbody tr th:only-of-type {\n",
              "        vertical-align: middle;\n",
              "    }\n",
              "\n",
              "    .dataframe tbody tr th {\n",
              "        vertical-align: top;\n",
              "    }\n",
              "\n",
              "    .dataframe thead th {\n",
              "        text-align: right;\n",
              "    }\n",
              "</style>\n",
              "<table border=\"1\" class=\"dataframe\">\n",
              "  <thead>\n",
              "    <tr style=\"text-align: right;\">\n",
              "      <th></th>\n",
              "      <th>Survived</th>\n",
              "      <th>Pclass</th>\n",
              "      <th>Name</th>\n",
              "      <th>Sex</th>\n",
              "      <th>Age</th>\n",
              "      <th>Siblings/Spouses Aboard</th>\n",
              "      <th>Parents/Children Aboard</th>\n",
              "      <th>Fare</th>\n",
              "    </tr>\n",
              "  </thead>\n",
              "  <tbody>\n",
              "    <tr>\n",
              "      <th>0</th>\n",
              "      <td>0</td>\n",
              "      <td>3</td>\n",
              "      <td>Mr. Owen Harris Braund</td>\n",
              "      <td>male</td>\n",
              "      <td>22.0</td>\n",
              "      <td>1</td>\n",
              "      <td>0</td>\n",
              "      <td>7.2500</td>\n",
              "    </tr>\n",
              "    <tr>\n",
              "      <th>1</th>\n",
              "      <td>1</td>\n",
              "      <td>1</td>\n",
              "      <td>Mrs. John Bradley (Florence Briggs Thayer) Cum...</td>\n",
              "      <td>female</td>\n",
              "      <td>38.0</td>\n",
              "      <td>1</td>\n",
              "      <td>0</td>\n",
              "      <td>71.2833</td>\n",
              "    </tr>\n",
              "    <tr>\n",
              "      <th>2</th>\n",
              "      <td>1</td>\n",
              "      <td>3</td>\n",
              "      <td>Miss. Laina Heikkinen</td>\n",
              "      <td>female</td>\n",
              "      <td>26.0</td>\n",
              "      <td>0</td>\n",
              "      <td>0</td>\n",
              "      <td>7.9250</td>\n",
              "    </tr>\n",
              "    <tr>\n",
              "      <th>3</th>\n",
              "      <td>1</td>\n",
              "      <td>1</td>\n",
              "      <td>Mrs. Jacques Heath (Lily May Peel) Futrelle</td>\n",
              "      <td>female</td>\n",
              "      <td>35.0</td>\n",
              "      <td>1</td>\n",
              "      <td>0</td>\n",
              "      <td>53.1000</td>\n",
              "    </tr>\n",
              "    <tr>\n",
              "      <th>4</th>\n",
              "      <td>0</td>\n",
              "      <td>3</td>\n",
              "      <td>Mr. William Henry Allen</td>\n",
              "      <td>male</td>\n",
              "      <td>35.0</td>\n",
              "      <td>0</td>\n",
              "      <td>0</td>\n",
              "      <td>8.0500</td>\n",
              "    </tr>\n",
              "  </tbody>\n",
              "</table>\n",
              "</div>"
            ],
            "text/plain": [
              "   Survived  Pclass  ... Parents/Children Aboard     Fare\n",
              "0         0       3  ...                       0   7.2500\n",
              "1         1       1  ...                       0  71.2833\n",
              "2         1       3  ...                       0   7.9250\n",
              "3         1       1  ...                       0  53.1000\n",
              "4         0       3  ...                       0   8.0500\n",
              "\n",
              "[5 rows x 8 columns]"
            ]
          },
          "metadata": {
            "tags": []
          },
          "execution_count": 53
        }
      ]
    },
    {
      "cell_type": "markdown",
      "metadata": {
        "id": "o7MOzbHMOGY_",
        "colab_type": "text"
      },
      "source": [
        "# Classification supervisée : Decision Tree"
      ]
    },
    {
      "cell_type": "code",
      "metadata": {
        "id": "n69riSS-Pv_K",
        "colab_type": "code",
        "colab": {}
      },
      "source": [
        "# création d'une colone Sex_male (booleen) à partir de la colonne sex\n",
        "le = LabelEncoder()\n",
        "le.fit(df_titanic['Sex'])\n",
        "Sex_male = le.transform(df_titanic['Sex'])\n",
        "df_titanic['Sex_male'] = Sex_male"
      ],
      "execution_count": 0,
      "outputs": []
    },
    {
      "cell_type": "code",
      "metadata": {
        "id": "mejFyQkvbqAB",
        "colab_type": "code",
        "outputId": "4bb813b0-3c13-4baa-bedb-e935dacd8161",
        "colab": {
          "base_uri": "https://localhost:8080/",
          "height": 106
        }
      },
      "source": [
        "df_titanic.head(2)"
      ],
      "execution_count": 0,
      "outputs": [
        {
          "output_type": "execute_result",
          "data": {
            "text/html": [
              "<div>\n",
              "<style scoped>\n",
              "    .dataframe tbody tr th:only-of-type {\n",
              "        vertical-align: middle;\n",
              "    }\n",
              "\n",
              "    .dataframe tbody tr th {\n",
              "        vertical-align: top;\n",
              "    }\n",
              "\n",
              "    .dataframe thead th {\n",
              "        text-align: right;\n",
              "    }\n",
              "</style>\n",
              "<table border=\"1\" class=\"dataframe\">\n",
              "  <thead>\n",
              "    <tr style=\"text-align: right;\">\n",
              "      <th></th>\n",
              "      <th>Survived</th>\n",
              "      <th>Pclass</th>\n",
              "      <th>Name</th>\n",
              "      <th>Sex</th>\n",
              "      <th>Age</th>\n",
              "      <th>Siblings/Spouses Aboard</th>\n",
              "      <th>Parents/Children Aboard</th>\n",
              "      <th>Fare</th>\n",
              "      <th>Sex_male</th>\n",
              "    </tr>\n",
              "  </thead>\n",
              "  <tbody>\n",
              "    <tr>\n",
              "      <th>0</th>\n",
              "      <td>0</td>\n",
              "      <td>3</td>\n",
              "      <td>Mr. Owen Harris Braund</td>\n",
              "      <td>male</td>\n",
              "      <td>22.0</td>\n",
              "      <td>1</td>\n",
              "      <td>0</td>\n",
              "      <td>7.2500</td>\n",
              "      <td>1</td>\n",
              "    </tr>\n",
              "    <tr>\n",
              "      <th>1</th>\n",
              "      <td>1</td>\n",
              "      <td>1</td>\n",
              "      <td>Mrs. John Bradley (Florence Briggs Thayer) Cum...</td>\n",
              "      <td>female</td>\n",
              "      <td>38.0</td>\n",
              "      <td>1</td>\n",
              "      <td>0</td>\n",
              "      <td>71.2833</td>\n",
              "      <td>0</td>\n",
              "    </tr>\n",
              "  </tbody>\n",
              "</table>\n",
              "</div>"
            ],
            "text/plain": [
              "   Survived  Pclass  ...     Fare Sex_male\n",
              "0         0       3  ...   7.2500        1\n",
              "1         1       1  ...  71.2833        0\n",
              "\n",
              "[2 rows x 9 columns]"
            ]
          },
          "metadata": {
            "tags": []
          },
          "execution_count": 55
        }
      ]
    },
    {
      "cell_type": "code",
      "metadata": {
        "id": "OEZziXFlOO-D",
        "colab_type": "code",
        "colab": {}
      },
      "source": [
        "#définition des variables \n",
        "X = df_titanic[['Pclass', 'Age', 'Siblings/Spouses Aboard',\n",
        "       'Parents/Children Aboard', 'Fare', 'Sex_male']]\n",
        "       \n",
        "y = df_titanic['Survived']\n",
        "\n",
        "# train test split\n",
        "X_train, X_test, y_train, y_test = train_test_split(X, y, test_size=0.25, random_state=42)"
      ],
      "execution_count": 0,
      "outputs": []
    },
    {
      "cell_type": "code",
      "metadata": {
        "id": "qgBefQOEOjv8",
        "colab_type": "code",
        "colab": {}
      },
      "source": [
        "#Definition du modèle\n",
        "Survivor_tree = DecisionTreeClassifier(random_state=0)\n",
        "Survivor_tree.fit(X_train, y_train)\n",
        "\n",
        "#prédictions\n",
        "y_pred = Survivor_tree.predict(X_test) "
      ],
      "execution_count": 0,
      "outputs": []
    },
    {
      "cell_type": "markdown",
      "metadata": {
        "id": "NmFKfkrSOo1k",
        "colab_type": "text"
      },
      "source": [
        "**Accuracy Score**"
      ]
    },
    {
      "cell_type": "code",
      "metadata": {
        "id": "CI74D3AWOoWD",
        "colab_type": "code",
        "outputId": "9317abd9-2f7d-45e2-bcbb-60ec2534c5cc",
        "colab": {
          "base_uri": "https://localhost:8080/",
          "height": 34
        }
      },
      "source": [
        "#accuracy score\n",
        "accuracy = accuracy_score(y_test, y_pred)\n",
        "\n",
        "print(\"L'accuracy score du jeu de test est de {}\".format(accuracy))"
      ],
      "execution_count": 0,
      "outputs": [
        {
          "output_type": "stream",
          "text": [
            "L'accuracy score du jeu de test est de 0.7792792792792793\n"
          ],
          "name": "stdout"
        }
      ]
    },
    {
      "cell_type": "markdown",
      "metadata": {
        "id": "Soe8b_8NRgc-",
        "colab_type": "text"
      },
      "source": [
        "# Grid Search\n",
        "\n",
        "Avec ce même classifieur, tu vas lancer une GridSearch avec les valeurs (2, 3, 5, 10) du paramètre max_depth, et avec les valeurs (1, 3, 5, 10) du paramètre min_samples_leaf. Le scoring doit être l'accuracy score"
      ]
    },
    {
      "cell_type": "code",
      "metadata": {
        "id": "K5gzRkPkRjj3",
        "colab_type": "code",
        "outputId": "98672d08-e392-408b-f181-68306394e94d",
        "colab": {
          "base_uri": "https://localhost:8080/",
          "height": 336
        }
      },
      "source": [
        "# Valeurs à tester pour les paramètres\n",
        "max_depth = np.array([2, 3, 5, 10])\n",
        "min_samples_leaf = np.array([1, 3, 5, 10]) \n",
        "\n",
        "#Intialisation de la GridSearch\n",
        "grid = GridSearchCV(Survivor_tree, param_grid=dict(max_depth = max_depth, min_samples_leaf=min_samples_leaf), scoring='accuracy', return_train_score=True)\n",
        "grid.fit(X_train, y_train)\n",
        "\n",
        "#On peut prévoir les valeurs avec le modèle issu du grid search\n",
        "y_pred_grid = grid.predict(X_test)\n",
        "\n",
        "#et on calcule l'accuracy_score (le meilleur possible avec les pamètres fournis)\n",
        "print(accuracy_score(y_test, y_pred_grid), '\\n')\n",
        "\n",
        "# Toutes les informations concernant notre Gird Search\n",
        "print(grid)"
      ],
      "execution_count": 0,
      "outputs": [
        {
          "output_type": "stream",
          "text": [
            "0.8108108108108109 \n",
            "\n",
            "GridSearchCV(cv=None, error_score=nan,\n",
            "             estimator=DecisionTreeClassifier(ccp_alpha=0.0, class_weight=None,\n",
            "                                              criterion='gini', max_depth=None,\n",
            "                                              max_features=None,\n",
            "                                              max_leaf_nodes=None,\n",
            "                                              min_impurity_decrease=0.0,\n",
            "                                              min_impurity_split=None,\n",
            "                                              min_samples_leaf=1,\n",
            "                                              min_samples_split=2,\n",
            "                                              min_weight_fraction_leaf=0.0,\n",
            "                                              presort='deprecated',\n",
            "                                              random_state=0, splitter='best'),\n",
            "             iid='deprecated', n_jobs=None,\n",
            "             param_grid={'max_depth': array([ 2,  3,  5, 10]),\n",
            "                         'min_samples_leaf': array([ 1,  3,  5, 10])},\n",
            "             pre_dispatch='2*n_jobs', refit=True, return_train_score=True,\n",
            "             scoring='accuracy', verbose=0)\n"
          ],
          "name": "stdout"
        }
      ]
    },
    {
      "cell_type": "markdown",
      "metadata": {
        "id": "ytxMi_G3dVB9",
        "colab_type": "text"
      },
      "source": [
        "**Résultats du grid search**"
      ]
    },
    {
      "cell_type": "code",
      "metadata": {
        "id": "onr5UE2KcRi9",
        "colab_type": "code",
        "outputId": "e1d1808a-9034-4af0-86c9-92fec06066a3",
        "colab": {
          "base_uri": "https://localhost:8080/",
          "height": 67
        }
      },
      "source": [
        "print('Avec GridSearch, le meilleur score obtenu est de {}, avec : \\n - un max_depht de {} \\n - un min_samples_leaf de {}'.format(grid.best_score_, grid.best_estimator_.max_depth, grid.best_estimator_.min_samples_leaf))\n"
      ],
      "execution_count": 0,
      "outputs": [
        {
          "output_type": "stream",
          "text": [
            "Avec GridSearch, le meilleur score obtenu est de 0.8285714285714285, avec : \n",
            " - un max_depht de 3 \n",
            " - un min_samples_leaf de 10\n"
          ],
          "name": "stdout"
        }
      ]
    },
    {
      "cell_type": "markdown",
      "metadata": {
        "id": "fiqzTEgtdkhR",
        "colab_type": "text"
      },
      "source": [
        "# Random Search"
      ]
    },
    {
      "cell_type": "code",
      "metadata": {
        "id": "NDGy6UwNgKBM",
        "colab_type": "code",
        "outputId": "c8819959-dc0d-4802-8da0-8571cbb51d8f",
        "colab": {
          "base_uri": "https://localhost:8080/",
          "height": 353
        }
      },
      "source": [
        "# Valeurs à tester pour les paramètres\n",
        "max_depth = np.array([2, 3, 5, 10])\n",
        "min_samples_leaf = np.array([1, 3, 5, 10]) \n",
        "\n",
        "# create and fit a ridge regression model, testing random alpha values\n",
        "rsearch = RandomizedSearchCV(Survivor_tree, param_distributions=dict(max_depth = max_depth, min_samples_leaf = min_samples_leaf))\n",
        "rsearch.fit(X_train, y_train)\n",
        "\n",
        "#Toutes les informations sur notre Random Search\n",
        "print(rsearch)"
      ],
      "execution_count": 0,
      "outputs": [
        {
          "output_type": "stream",
          "text": [
            "RandomizedSearchCV(cv=None, error_score=nan,\n",
            "                   estimator=DecisionTreeClassifier(ccp_alpha=0.0,\n",
            "                                                    class_weight=None,\n",
            "                                                    criterion='gini',\n",
            "                                                    max_depth=None,\n",
            "                                                    max_features=None,\n",
            "                                                    max_leaf_nodes=None,\n",
            "                                                    min_impurity_decrease=0.0,\n",
            "                                                    min_impurity_split=None,\n",
            "                                                    min_samples_leaf=1,\n",
            "                                                    min_samples_split=2,\n",
            "                                                    min_weight_fraction_leaf=0.0,\n",
            "                                                    presort='deprecated',\n",
            "                                                    random_state=0,\n",
            "                                                    splitter='best'),\n",
            "                   iid='deprecated', n_iter=10, n_jobs=None,\n",
            "                   param_distributions={'max_depth': array([ 2,  3,  5, 10]),\n",
            "                                        'min_samples_leaf': array([ 1,  3,  5, 10])},\n",
            "                   pre_dispatch='2*n_jobs', random_state=None, refit=True,\n",
            "                   return_train_score=False, scoring=None, verbose=0)\n"
          ],
          "name": "stdout"
        }
      ]
    },
    {
      "cell_type": "markdown",
      "metadata": {
        "id": "J0IbY0B4kDX2",
        "colab_type": "text"
      },
      "source": [
        "**Résultats du Random Search**"
      ]
    },
    {
      "cell_type": "code",
      "metadata": {
        "id": "QRBDGR8KgqQG",
        "colab_type": "code",
        "outputId": "ee4a7187-745b-4aa2-9dfa-d6c323d27fdb",
        "colab": {
          "base_uri": "https://localhost:8080/",
          "height": 67
        }
      },
      "source": [
        "# summarize the results of the random parameter search\n",
        "print('Avec RandomSearch, le meilleur score obtenu est de {}, avec : \\n - un max_depht de {} \\n - un min_samples_leaf de {}'.format(rsearch.best_score_, rsearch.best_estimator_.max_depth, rsearch.best_estimator_.min_samples_leaf))"
      ],
      "execution_count": 0,
      "outputs": [
        {
          "output_type": "stream",
          "text": [
            "Avec RandomSearch, le meilleur score obtenu est de 0.8285714285714285, avec : \n",
            " - un max_depht de 3 \n",
            " - un min_samples_leaf de 10\n"
          ],
          "name": "stdout"
        }
      ]
    },
    {
      "cell_type": "markdown",
      "metadata": {
        "id": "I883ozdlkd-5",
        "colab_type": "text"
      },
      "source": [
        "**test supplémentaire avec d'autres variables**"
      ]
    },
    {
      "cell_type": "code",
      "metadata": {
        "id": "XMwI0A3vkLnU",
        "colab_type": "code",
        "outputId": "e2ba9acd-6b39-470a-b6c9-59c520dd3b46",
        "colab": {
          "base_uri": "https://localhost:8080/",
          "height": 67
        }
      },
      "source": [
        "# Valeurs à tester pour les paramètres\n",
        "max_depth = np.arange(1,10, 1)\n",
        "min_samples_leaf = np.arange(1,10, 1)\n",
        "\n",
        "# create and fit a ridge regression model, testing random alpha values\n",
        "rsearch = RandomizedSearchCV(Survivor_tree, param_distributions=dict(max_depth = max_depth, min_samples_leaf = min_samples_leaf))\n",
        "rsearch.fit(X_train, y_train)\n",
        "\n",
        "#Toutes les informations sur notre Random Search\n",
        "print('Avec RandomSearch, le meilleur score obtenu est de {}, avec : \\n - un max_depht de {} \\n - un min_samples_leaf de {}'.format(rsearch.best_score_, rsearch.best_estimator_.max_depth, rsearch.best_estimator_.min_samples_leaf))"
      ],
      "execution_count": 0,
      "outputs": [
        {
          "output_type": "stream",
          "text": [
            "Avec RandomSearch, le meilleur score obtenu est de 0.825563909774436, avec : \n",
            " - un max_depht de 4 \n",
            " - un min_samples_leaf de 9\n"
          ],
          "name": "stdout"
        }
      ]
    }
  ]
}