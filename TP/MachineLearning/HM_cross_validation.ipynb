{
  "nbformat": 4,
  "nbformat_minor": 0,
  "metadata": {
    "colab": {
      "name": "HM_cross_validation.ipynb",
      "provenance": [],
      "collapsed_sections": []
    },
    "kernelspec": {
      "name": "python3",
      "display_name": "Python 3"
    }
  },
  "cells": [
    {
      "cell_type": "markdown",
      "metadata": {
        "id": "FjRNpe7qU1t1",
        "colab_type": "text"
      },
      "source": [
        "•\n",
        "Tu vas effectuer une classification supervisée sur la colonne \"survived\", en effectuant un traintestsplit puis un classifieur de ton choix (knn, decision tree, régression logistique, etc...). Tu dois faire apparaitre clairement l'accuracy score du jeu d'entrainement et celui du jeu de test.\n",
        "\n",
        "•\n",
        "Avec ce même classifier, tu vas lancer une crossvalidation avec un découpage en 6 parties (k-fold = 6), et avec découpage aléatoire. Le scoring doit être l'accuracy score. La CrossValidation renforce-t-elle votre confiance dans cette prédiction ?"
      ]
    },
    {
      "cell_type": "markdown",
      "metadata": {
        "id": "Tqsk92mgVAtj",
        "colab_type": "text"
      },
      "source": [
        "# Import des modules"
      ]
    },
    {
      "cell_type": "code",
      "metadata": {
        "id": "pEnJ_590V6Z3",
        "colab_type": "code",
        "colab": {}
      },
      "source": [
        "import pandas as pd\n",
        "\n",
        "from sklearn.preprocessing import LabelEncoder\n",
        "from sklearn.model_selection import train_test_split\n",
        "from sklearn.neighbors import KNeighborsClassifier\n",
        "from sklearn.metrics import accuracy_score\n",
        "\n",
        "from sklearn.model_selection import cross_val_score\n",
        "from sklearn.metrics import make_scorer\n",
        "from sklearn.model_selection import StratifiedKFold"
      ],
      "execution_count": 0,
      "outputs": []
    },
    {
      "cell_type": "markdown",
      "metadata": {
        "id": "3hK_T2vFU5dz",
        "colab_type": "text"
      },
      "source": [
        "# Import du dataset"
      ]
    },
    {
      "cell_type": "code",
      "metadata": {
        "id": "GVSgHFbaU5Gz",
        "colab_type": "code",
        "colab": {}
      },
      "source": [
        "from pydrive.auth import GoogleAuth\n",
        "from pydrive.drive import GoogleDrive\n",
        "from google.colab import auth\n",
        "from oauth2client.client import GoogleCredentials\n",
        " \n",
        "# Authentification Google\n",
        "auth.authenticate_user()\n",
        "gauth = GoogleAuth()\n",
        "gauth.credentials = GoogleCredentials.get_application_default()\n",
        "drive = GoogleDrive(gauth)\n",
        " \n",
        "# Download du fichier\n",
        "id = '1CmJRYacimunpj7EUAic4LZL-dmZkUXjF'\n",
        "downloaded = drive.CreateFile({'id': '1CmJRYacimunpj7EUAic4LZL-dmZkUXjF'})\n",
        "downloaded.GetContentFile('titanic.csv')"
      ],
      "execution_count": 0,
      "outputs": []
    },
    {
      "cell_type": "code",
      "metadata": {
        "id": "LhbU0XVMU0Ol",
        "colab_type": "code",
        "outputId": "96517d07-993f-427d-ae72-5729003148d8",
        "colab": {
          "base_uri": "https://localhost:8080/",
          "height": 195
        }
      },
      "source": [
        "df_titanic = pd.read_csv('titanic.csv')\n",
        "df_titanic.head()"
      ],
      "execution_count": 0,
      "outputs": [
        {
          "output_type": "execute_result",
          "data": {
            "text/html": [
              "<div>\n",
              "<style scoped>\n",
              "    .dataframe tbody tr th:only-of-type {\n",
              "        vertical-align: middle;\n",
              "    }\n",
              "\n",
              "    .dataframe tbody tr th {\n",
              "        vertical-align: top;\n",
              "    }\n",
              "\n",
              "    .dataframe thead th {\n",
              "        text-align: right;\n",
              "    }\n",
              "</style>\n",
              "<table border=\"1\" class=\"dataframe\">\n",
              "  <thead>\n",
              "    <tr style=\"text-align: right;\">\n",
              "      <th></th>\n",
              "      <th>Survived</th>\n",
              "      <th>Pclass</th>\n",
              "      <th>Name</th>\n",
              "      <th>Sex</th>\n",
              "      <th>Age</th>\n",
              "      <th>Siblings/Spouses Aboard</th>\n",
              "      <th>Parents/Children Aboard</th>\n",
              "      <th>Fare</th>\n",
              "    </tr>\n",
              "  </thead>\n",
              "  <tbody>\n",
              "    <tr>\n",
              "      <th>0</th>\n",
              "      <td>0</td>\n",
              "      <td>3</td>\n",
              "      <td>Mr. Owen Harris Braund</td>\n",
              "      <td>male</td>\n",
              "      <td>22.0</td>\n",
              "      <td>1</td>\n",
              "      <td>0</td>\n",
              "      <td>7.2500</td>\n",
              "    </tr>\n",
              "    <tr>\n",
              "      <th>1</th>\n",
              "      <td>1</td>\n",
              "      <td>1</td>\n",
              "      <td>Mrs. John Bradley (Florence Briggs Thayer) Cum...</td>\n",
              "      <td>female</td>\n",
              "      <td>38.0</td>\n",
              "      <td>1</td>\n",
              "      <td>0</td>\n",
              "      <td>71.2833</td>\n",
              "    </tr>\n",
              "    <tr>\n",
              "      <th>2</th>\n",
              "      <td>1</td>\n",
              "      <td>3</td>\n",
              "      <td>Miss. Laina Heikkinen</td>\n",
              "      <td>female</td>\n",
              "      <td>26.0</td>\n",
              "      <td>0</td>\n",
              "      <td>0</td>\n",
              "      <td>7.9250</td>\n",
              "    </tr>\n",
              "    <tr>\n",
              "      <th>3</th>\n",
              "      <td>1</td>\n",
              "      <td>1</td>\n",
              "      <td>Mrs. Jacques Heath (Lily May Peel) Futrelle</td>\n",
              "      <td>female</td>\n",
              "      <td>35.0</td>\n",
              "      <td>1</td>\n",
              "      <td>0</td>\n",
              "      <td>53.1000</td>\n",
              "    </tr>\n",
              "    <tr>\n",
              "      <th>4</th>\n",
              "      <td>0</td>\n",
              "      <td>3</td>\n",
              "      <td>Mr. William Henry Allen</td>\n",
              "      <td>male</td>\n",
              "      <td>35.0</td>\n",
              "      <td>0</td>\n",
              "      <td>0</td>\n",
              "      <td>8.0500</td>\n",
              "    </tr>\n",
              "  </tbody>\n",
              "</table>\n",
              "</div>"
            ],
            "text/plain": [
              "   Survived  Pclass  ... Parents/Children Aboard     Fare\n",
              "0         0       3  ...                       0   7.2500\n",
              "1         1       1  ...                       0  71.2833\n",
              "2         1       3  ...                       0   7.9250\n",
              "3         1       1  ...                       0  53.1000\n",
              "4         0       3  ...                       0   8.0500\n",
              "\n",
              "[5 rows x 8 columns]"
            ]
          },
          "metadata": {
            "tags": []
          },
          "execution_count": 75
        }
      ]
    },
    {
      "cell_type": "markdown",
      "metadata": {
        "id": "3yU3pof1XOUB",
        "colab_type": "text"
      },
      "source": [
        "# Classification supervisée"
      ]
    },
    {
      "cell_type": "code",
      "metadata": {
        "id": "HFOG7O2eECBn",
        "colab_type": "code",
        "colab": {}
      },
      "source": [
        "# création d'une colone Sex_male (booleen) à partir de la colonne sex\n",
        "le = LabelEncoder()\n",
        "le.fit(df_titanic['Sex'])\n",
        "Sex_male = le.transform(df_titanic['Sex'])\n",
        "df_titanic['Sex_male'] = Sex_male"
      ],
      "execution_count": 0,
      "outputs": []
    },
    {
      "cell_type": "code",
      "metadata": {
        "id": "SnKO6Oo4YAGA",
        "colab_type": "code",
        "colab": {}
      },
      "source": [
        "#définition des variables \n",
        "X = df_titanic[['Pclass', 'Age', 'Siblings/Spouses Aboard',\n",
        "       'Parents/Children Aboard', 'Fare', 'Sex_male']]\n",
        "y = df_titanic['Survived']"
      ],
      "execution_count": 0,
      "outputs": []
    },
    {
      "cell_type": "code",
      "metadata": {
        "id": "66WyYFDBXT19",
        "colab_type": "code",
        "colab": {}
      },
      "source": [
        "# train test split\n",
        "X_train, X_test, y_train, y_test = train_test_split(X, y, test_size=0.25, random_state=42)"
      ],
      "execution_count": 0,
      "outputs": []
    },
    {
      "cell_type": "markdown",
      "metadata": {
        "id": "pkLNwPnxXR1F",
        "colab_type": "text"
      },
      "source": [
        "## KNN"
      ]
    },
    {
      "cell_type": "code",
      "metadata": {
        "id": "hqIVPWrW_y-f",
        "colab_type": "code",
        "outputId": "981aba80-311e-4967-ed77-b2a48ae5de20",
        "colab": {
          "base_uri": "https://localhost:8080/",
          "height": 67
        }
      },
      "source": [
        "# definition du modèle\n",
        "n_neighbors = int(df_titanic.shape[0]**0.5)\n",
        "Survivor = KNeighborsClassifier(n_neighbors=n_neighbors)\n",
        "Survivor.fit(X_train, y_train)"
      ],
      "execution_count": 0,
      "outputs": [
        {
          "output_type": "execute_result",
          "data": {
            "text/plain": [
              "KNeighborsClassifier(algorithm='auto', leaf_size=30, metric='minkowski',\n",
              "                     metric_params=None, n_jobs=None, n_neighbors=29, p=2,\n",
              "                     weights='uniform')"
            ]
          },
          "metadata": {
            "tags": []
          },
          "execution_count": 79
        }
      ]
    },
    {
      "cell_type": "code",
      "metadata": {
        "id": "UPz1I3AHEy36",
        "colab_type": "code",
        "colab": {}
      },
      "source": [
        "# prédictions\n",
        "y_pred_test = Survivor.predict(X_test)\n",
        "y_pred_train = Survivor.predict(X_train)"
      ],
      "execution_count": 0,
      "outputs": []
    },
    {
      "cell_type": "code",
      "metadata": {
        "id": "uxzn_ICECnnI",
        "colab_type": "code",
        "outputId": "41fabca4-1573-4c6e-983d-7f70ed23f80c",
        "colab": {
          "base_uri": "https://localhost:8080/",
          "height": 50
        }
      },
      "source": [
        "#accuracy score\n",
        "accuracy_score_test = accuracy_score(y_test, y_pred_test)\n",
        "accuracy_score_train = accuracy_score(y_train, y_pred_train)\n",
        "\n",
        "print(\"L'accuracy score du jeu de test est de {}\".format(accuracy_score_test))\n",
        "print(\"L'accuracy score du jeu d'entraînement est de {}\".format(accuracy_score_train))"
      ],
      "execution_count": 0,
      "outputs": [
        {
          "output_type": "stream",
          "text": [
            "L'accuracy score du jeu de test est de 0.6981981981981982\n",
            "L'accuracy score du jeu d'entraînement est de 0.7308270676691729\n"
          ],
          "name": "stdout"
        }
      ]
    },
    {
      "cell_type": "markdown",
      "metadata": {
        "id": "7nKbrYX4_wgz",
        "colab_type": "text"
      },
      "source": [
        "# Cross validation"
      ]
    },
    {
      "cell_type": "code",
      "metadata": {
        "id": "ZxPMtEsH_zfu",
        "colab_type": "code",
        "outputId": "7f0b2385-9bcd-406d-c798-694387cc0d82",
        "colab": {
          "base_uri": "https://localhost:8080/",
          "height": 50
        }
      },
      "source": [
        "# 6 parties, découpage aléatoire, accuracy score\n",
        "\n",
        "cross_val_score(Survivor, X, y, cv=StratifiedKFold(n_splits=6, random_state = 42, shuffle=True), scoring=make_scorer(accuracy_score))"
      ],
      "execution_count": 0,
      "outputs": [
        {
          "output_type": "execute_result",
          "data": {
            "text/plain": [
              "array([0.69594595, 0.7027027 , 0.75      , 0.69594595, 0.71621622,\n",
              "       0.68027211])"
            ]
          },
          "metadata": {
            "tags": []
          },
          "execution_count": 82
        }
      ]
    },
    {
      "cell_type": "markdown",
      "metadata": {
        "id": "Z1tcdCjeJ96r",
        "colab_type": "text"
      },
      "source": [
        "Les résultats de la validation croisée confirment les scores du modèle, autour de 70% (+/- 5%)"
      ]
    }
  ]
}