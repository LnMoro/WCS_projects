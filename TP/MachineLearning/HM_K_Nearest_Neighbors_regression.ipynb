{
  "nbformat": 4,
  "nbformat_minor": 0,
  "metadata": {
    "colab": {
      "name": "HM_K Nearest Neighbors : régression.ipynb",
      "provenance": [],
      "collapsed_sections": [
        "dteOAfgSrPiI",
        "DFxwd45Q5woK",
        "68w4B7eApNNh"
      ]
    },
    "kernelspec": {
      "name": "python3",
      "display_name": "Python 3"
    }
  },
  "cells": [
    {
      "cell_type": "markdown",
      "metadata": {
        "id": "iUXdgk0InhWG",
        "colab_type": "text"
      },
      "source": [
        "#Consigne\n",
        "Maintenant que tu as contribué à déterminer le destin de parachutiste de Dédé, utilise le k-NN en régression pour prédire... les données d'ensoleillement. \n",
        "\n",
        "1.\n",
        "Reprends le dataset de météo de 2019 de la quête régression linéaire.\n",
        "\n",
        "2.\n",
        "Effectue un train-test split.\n",
        "\n",
        "3.\n",
        "Entraine une régression KNN avec scikit-learn avec comme target \"SUNHOUR\" sur le jeu d'entrainement.\n",
        "\n",
        "4.\n",
        "Trouve le meilleur paramètre pour obtenir le meilleur R2-score sur le jeu de test.\n",
        "\n",
        "5.\n",
        "Compare le score obtenu avec celui de la régression linéaire.\n",
        "\n",
        "6.\n",
        "Partage le lien vers ton notebook en guise de solution au challenge."
      ]
    },
    {
      "cell_type": "markdown",
      "metadata": {
        "id": "rf1UsV0IqHVJ",
        "colab_type": "text"
      },
      "source": [
        "#Import modules et dataset "
      ]
    },
    {
      "cell_type": "code",
      "metadata": {
        "id": "ih5VsCSsAGWK",
        "colab_type": "code",
        "colab": {}
      },
      "source": [
        "import matplotlib.pyplot as plt\n",
        "import pandas as pd\n",
        "import numpy as np\n",
        "import seaborn as sns\n",
        "from sklearn.model_selection import train_test_split\n",
        "from sklearn.linear_model import LinearRegression\n",
        "from sklearn.neighbors import KNeighborsRegressor"
      ],
      "execution_count": 0,
      "outputs": []
    },
    {
      "cell_type": "code",
      "metadata": {
        "id": "FdaPAK4NpxEJ",
        "colab_type": "code",
        "colab": {}
      },
      "source": [
        "link = \"https://raw.githubusercontent.com/murpi/wilddata/master/quests/weather2019.csv\"\n",
        "df_weather = pd.read_csv(link)"
      ],
      "execution_count": 0,
      "outputs": []
    },
    {
      "cell_type": "markdown",
      "metadata": {
        "id": "dteOAfgSrPiI",
        "colab_type": "text"
      },
      "source": [
        "#Essai avec toutes les colonnes numériques\n"
      ]
    },
    {
      "cell_type": "code",
      "metadata": {
        "id": "Gwt_XvhE2cJZ",
        "colab_type": "code",
        "outputId": "0f12ce8f-460b-487a-fab4-547c81a583f1",
        "colab": {
          "base_uri": "https://localhost:8080/",
          "height": 151
        }
      },
      "source": [
        "df_weather.columns"
      ],
      "execution_count": 0,
      "outputs": [
        {
          "output_type": "execute_result",
          "data": {
            "text/plain": [
              "Index(['DATE', 'MAX_TEMPERATURE_C', 'MIN_TEMPERATURE_C', 'WINDSPEED_MAX_KMH',\n",
              "       'TEMPERATURE_MORNING_C', 'TEMPERATURE_NOON_C', 'TEMPERATURE_EVENING_C',\n",
              "       'PRECIP_TOTAL_DAY_MM', 'HUMIDITY_MAX_PERCENT', 'VISIBILITY_AVG_KM',\n",
              "       'PRESSURE_MAX_MB', 'CLOUDCOVER_AVG_PERCENT', 'HEATINDEX_MAX_C',\n",
              "       'DEWPOINT_MAX_C', 'WINDTEMP_MAX_C', 'WEATHER_CODE_MORNING',\n",
              "       'WEATHER_CODE_NOON', 'WEATHER_CODE_EVENING', 'TOTAL_SNOW_MM',\n",
              "       'UV_INDEX', 'SUNHOUR', 'OPINION', 'MONTH', 'DAY'],\n",
              "      dtype='object')"
            ]
          },
          "metadata": {
            "tags": []
          },
          "execution_count": 166
        }
      ]
    },
    {
      "cell_type": "code",
      "metadata": {
        "id": "p2afG-nZrU5T",
        "colab_type": "code",
        "colab": {}
      },
      "source": [
        "# choice of X variables : MIN_TEMPERATURE_C, SUNHOUR, VISIBILITY_AVG_KM, WINDTEMP_MAX_C TEMPERATURE_MORNING_C\tTEMPERATURE_NOON_C\tTEMPERATURE_EVENING_C\n",
        "X = df_weather[['MAX_TEMPERATURE_C', 'MIN_TEMPERATURE_C', 'WINDSPEED_MAX_KMH',\n",
        "       'TEMPERATURE_MORNING_C', 'TEMPERATURE_NOON_C', 'TEMPERATURE_EVENING_C',\n",
        "       'PRECIP_TOTAL_DAY_MM', 'HUMIDITY_MAX_PERCENT', 'VISIBILITY_AVG_KM',\n",
        "       'PRESSURE_MAX_MB', 'CLOUDCOVER_AVG_PERCENT', 'HEATINDEX_MAX_C',\n",
        "       'DEWPOINT_MAX_C', 'WINDTEMP_MAX_C', 'WEATHER_CODE_MORNING',\n",
        "       'WEATHER_CODE_NOON', 'WEATHER_CODE_EVENING', 'TOTAL_SNOW_MM',\n",
        "       'UV_INDEX', 'MONTH', 'DAY']]\n",
        "y = df_weather['SUNHOUR']"
      ],
      "execution_count": 0,
      "outputs": []
    },
    {
      "cell_type": "code",
      "metadata": {
        "id": "DCVIlYXLpQdn",
        "colab_type": "code",
        "colab": {}
      },
      "source": [
        "X_train, X_test, y_train, y_test = train_test_split(X, y, test_size=0.20, random_state=42)"
      ],
      "execution_count": 0,
      "outputs": []
    },
    {
      "cell_type": "markdown",
      "metadata": {
        "id": "YvUF7ulZrorh",
        "colab_type": "text"
      },
      "source": [
        "##Regression KNN"
      ]
    },
    {
      "cell_type": "code",
      "metadata": {
        "id": "UApftMaf6VPB",
        "colab_type": "code",
        "colab": {}
      },
      "source": [
        "#choix du n_neigbors :racine carrée du nombre d'observations, entier le plus proche"
      ],
      "execution_count": 0,
      "outputs": []
    },
    {
      "cell_type": "code",
      "metadata": {
        "id": "ClOycL9Q-Jbp",
        "colab_type": "code",
        "outputId": "64028440-bbd7-4912-a69c-0ebbb39d18ad",
        "colab": {
          "base_uri": "https://localhost:8080/",
          "height": 34
        }
      },
      "source": [
        "n_neigh = int((df_weather.shape[0]**(0.5)))\n",
        "n_neigh"
      ],
      "execution_count": 0,
      "outputs": [
        {
          "output_type": "execute_result",
          "data": {
            "text/plain": [
              "19"
            ]
          },
          "metadata": {
            "tags": []
          },
          "execution_count": 173
        }
      ]
    },
    {
      "cell_type": "code",
      "metadata": {
        "id": "7wQiCuzPrs9f",
        "colab_type": "code",
        "outputId": "7e1e9b2a-ebbb-42e6-cfa6-d57c90062088",
        "colab": {
          "base_uri": "https://localhost:8080/",
          "height": 67
        }
      },
      "source": [
        "modelKnn = KNeighborsRegressor(n_neighbors=n_neigh)\n",
        "modelKnn.fit(X_train, y_train)"
      ],
      "execution_count": 0,
      "outputs": [
        {
          "output_type": "execute_result",
          "data": {
            "text/plain": [
              "KNeighborsRegressor(algorithm='auto', leaf_size=30, metric='minkowski',\n",
              "                    metric_params=None, n_jobs=None, n_neighbors=19, p=2,\n",
              "                    weights='uniform')"
            ]
          },
          "metadata": {
            "tags": []
          },
          "execution_count": 174
        }
      ]
    },
    {
      "cell_type": "code",
      "metadata": {
        "id": "-Ngl6bdgsedK",
        "colab_type": "code",
        "outputId": "23381c6b-675c-4bdb-dbe4-fcd4d684afa8",
        "colab": {
          "base_uri": "https://localhost:8080/",
          "height": 34
        }
      },
      "source": [
        "modelKnn.score(X_test, y_test)"
      ],
      "execution_count": 0,
      "outputs": [
        {
          "output_type": "execute_result",
          "data": {
            "text/plain": [
              "0.5343471532294679"
            ]
          },
          "metadata": {
            "tags": []
          },
          "execution_count": 175
        }
      ]
    },
    {
      "cell_type": "markdown",
      "metadata": {
        "id": "TBINFu-ovbYu",
        "colab_type": "text"
      },
      "source": [
        "## Regression Linéraire"
      ]
    },
    {
      "cell_type": "code",
      "metadata": {
        "id": "J1niaR8ovbJF",
        "colab_type": "code",
        "colab": {}
      },
      "source": [
        "modelLR = LinearRegression().fit(X_train, y_train)"
      ],
      "execution_count": 0,
      "outputs": []
    },
    {
      "cell_type": "code",
      "metadata": {
        "id": "8D2IuOZfvyRz",
        "colab_type": "code",
        "outputId": "9af2cc26-2e5c-48f8-d944-f0282d44b626",
        "colab": {
          "base_uri": "https://localhost:8080/",
          "height": 34
        }
      },
      "source": [
        "modelLR.score(X_test, y_test)"
      ],
      "execution_count": 0,
      "outputs": [
        {
          "output_type": "execute_result",
          "data": {
            "text/plain": [
              "0.7469559091047298"
            ]
          },
          "metadata": {
            "tags": []
          },
          "execution_count": 132
        }
      ]
    },
    {
      "cell_type": "markdown",
      "metadata": {
        "id": "DFxwd45Q5woK",
        "colab_type": "text"
      },
      "source": [
        "#Boucle sur chacune des colonnes (un paramètre)"
      ]
    },
    {
      "cell_type": "code",
      "metadata": {
        "id": "jX5DN7cqH6vv",
        "colab_type": "code",
        "colab": {}
      },
      "source": [
        "col_num = ['MAX_TEMPERATURE_C', 'MIN_TEMPERATURE_C', 'WINDSPEED_MAX_KMH',\n",
        "       'TEMPERATURE_MORNING_C', 'TEMPERATURE_NOON_C', 'TEMPERATURE_EVENING_C',\n",
        "       'PRECIP_TOTAL_DAY_MM', 'HUMIDITY_MAX_PERCENT', 'VISIBILITY_AVG_KM',\n",
        "       'PRESSURE_MAX_MB', 'CLOUDCOVER_AVG_PERCENT', 'HEATINDEX_MAX_C',\n",
        "       'DEWPOINT_MAX_C', 'WINDTEMP_MAX_C', 'WEATHER_CODE_MORNING',\n",
        "       'WEATHER_CODE_NOON', 'WEATHER_CODE_EVENING', 'TOTAL_SNOW_MM',\n",
        "       'UV_INDEX', 'MONTH', 'DAY']"
      ],
      "execution_count": 0,
      "outputs": []
    },
    {
      "cell_type": "code",
      "metadata": {
        "id": "SY-36nzN5vzk",
        "colab_type": "code",
        "outputId": "5deefb85-0d8e-43fd-ac0b-4a81a5b35c8a",
        "colab": {
          "base_uri": "https://localhost:8080/",
          "height": 1000
        }
      },
      "source": [
        "param_ok = []\n",
        "maxLR = 0\n",
        "maxKnn = 0\n",
        "colLR = 0\n",
        "colKnn = 0\n",
        "for item in col_num :\n",
        "  X = df_weather[[item]]\n",
        "  y= df_weather['SUNHOUR']\n",
        "  X_train, X_test, y_train, y_test = train_test_split(X, y, test_size=0.20, random_state=42)\n",
        "  modelLR = LinearRegression().fit(X_train, y_train)\n",
        "  modelKnn = KNeighborsRegressor(n_neighbors=n_neigh).fit(X_train, y_train)\n",
        "  scoreLR = modelLR.score(X_test, y_test)\n",
        "  scoreKnn =modelKnn.score(X_test, y_test)\n",
        "\n",
        "  print('Le paramètre choisi est : {}'.format(item))\n",
        "  print('Le score du modèle de regression est de {} \\nLe score du modèle de classification KNN est : {}'.format(scoreLR, scoreKnn))\n",
        "\n",
        "  if scoreLR > scoreKnn:\n",
        "    print(' La REGRESSION est un meilleur modèle \\n')\n",
        "  elif  scoreLR < scoreKnn:\n",
        "    print(' La CLASSIFICATION est un meilleur modèle \\n')\n",
        "  else :\n",
        "    print(' les deux modèles sont EQUIVALENTS \\n')\n",
        "  if abs(scoreLR) > 0.4 or abs(scoreKnn) > 0.4:\n",
        "    param_ok.append(item)\n",
        "\n",
        "  if abs(scoreLR) > maxLR :\n",
        "    maxLR=scoreLR\n",
        "    colLR = item\n",
        "  if abs(scoreKnn) > maxKnn :\n",
        "    maxKnn=scoreKnn\n",
        "    colKnn = item\n",
        "\n",
        "print('Les paramètres interessants sont : \\n {}'.format(param_ok))\n",
        "print('La meilleur colonne pour la classification est : {}, avec un score de {}'.format(colKnn, maxKnn))\n",
        "print('La meilleur colonne pour la régression linéaire est : {}, avec un score de {}'.format(colLR, maxLR))"
      ],
      "execution_count": 0,
      "outputs": [
        {
          "output_type": "stream",
          "text": [
            "Le paramètre choisi est : MAX_TEMPERATURE_C\n",
            "Le score du modèle de regression est de 0.49955678059674014 \n",
            "Le score du modèle de classification KNN est : 0.5371189105271362\n",
            " La CLASSIFICATION est un meilleur modèle \n",
            "\n",
            "Le paramètre choisi est : MIN_TEMPERATURE_C\n",
            "Le score du modèle de regression est de 0.24368590221404585 \n",
            "Le score du modèle de classification KNN est : 0.2276336789028519\n",
            " La REGRESSION est un meilleur modèle \n",
            "\n",
            "Le paramètre choisi est : WINDSPEED_MAX_KMH\n",
            "Le score du modèle de regression est de 0.033860623374120435 \n",
            "Le score du modèle de classification KNN est : -0.02776543457914693\n",
            " La REGRESSION est un meilleur modèle \n",
            "\n",
            "Le paramètre choisi est : TEMPERATURE_MORNING_C\n",
            "Le score du modèle de regression est de 0.13830890660238604 \n",
            "Le score du modèle de classification KNN est : 0.1817748282039363\n",
            " La CLASSIFICATION est un meilleur modèle \n",
            "\n",
            "Le paramètre choisi est : TEMPERATURE_NOON_C\n",
            "Le score du modèle de regression est de 0.46634089546385604 \n",
            "Le score du modèle de classification KNN est : 0.5283639992518008\n",
            " La CLASSIFICATION est un meilleur modèle \n",
            "\n",
            "Le paramètre choisi est : TEMPERATURE_EVENING_C\n",
            "Le score du modèle de regression est de 0.4751991020002898 \n",
            "Le score du modèle de classification KNN est : 0.5391682820146371\n",
            " La CLASSIFICATION est un meilleur modèle \n",
            "\n",
            "Le paramètre choisi est : PRECIP_TOTAL_DAY_MM\n",
            "Le score du modèle de regression est de 0.11728297800971832 \n",
            "Le score du modèle de classification KNN est : 0.21235569076322658\n",
            " La CLASSIFICATION est un meilleur modèle \n",
            "\n",
            "Le paramètre choisi est : HUMIDITY_MAX_PERCENT\n",
            "Le score du modèle de regression est de 0.3703581395728446 \n",
            "Le score du modèle de classification KNN est : 0.45306347597308894\n",
            " La CLASSIFICATION est un meilleur modèle \n",
            "\n",
            "Le paramètre choisi est : VISIBILITY_AVG_KM\n",
            "Le score du modèle de regression est de 0.032705785629438044 \n",
            "Le score du modèle de classification KNN est : 0.13099177576438958\n",
            " La CLASSIFICATION est un meilleur modèle \n",
            "\n",
            "Le paramètre choisi est : PRESSURE_MAX_MB\n",
            "Le score du modèle de regression est de 0.01463995782519456 \n",
            "Le score du modèle de classification KNN est : 0.2636171614258688\n",
            " La CLASSIFICATION est un meilleur modèle \n",
            "\n",
            "Le paramètre choisi est : CLOUDCOVER_AVG_PERCENT\n",
            "Le score du modèle de regression est de 0.4927085702638808 \n",
            "Le score du modèle de classification KNN est : 0.5122708350292879\n",
            " La CLASSIFICATION est un meilleur modèle \n",
            "\n",
            "Le paramètre choisi est : HEATINDEX_MAX_C\n",
            "Le score du modèle de regression est de 0.5014854673965032 \n",
            "Le score du modèle de classification KNN est : 0.5387527631806531\n",
            " La CLASSIFICATION est un meilleur modèle \n",
            "\n",
            "Le paramètre choisi est : DEWPOINT_MAX_C\n",
            "Le score du modèle de regression est de 0.21502769851307435 \n",
            "Le score du modèle de classification KNN est : 0.2004740508551489\n",
            " La REGRESSION est un meilleur modèle \n",
            "\n",
            "Le paramètre choisi est : WINDTEMP_MAX_C\n",
            "Le score du modèle de regression est de 0.3546135786462934 \n",
            "Le score du modèle de classification KNN est : 0.4121461927157113\n",
            " La CLASSIFICATION est un meilleur modèle \n",
            "\n",
            "Le paramètre choisi est : WEATHER_CODE_MORNING\n",
            "Le score du modèle de regression est de 0.1046655098225504 \n",
            "Le score du modèle de classification KNN est : 0.14457216408701146\n",
            " La CLASSIFICATION est un meilleur modèle \n",
            "\n",
            "Le paramètre choisi est : WEATHER_CODE_NOON\n",
            "Le score du modèle de regression est de 0.17221059643068926 \n",
            "Le score du modèle de classification KNN est : 0.2864450452832519\n",
            " La CLASSIFICATION est un meilleur modèle \n",
            "\n",
            "Le paramètre choisi est : WEATHER_CODE_EVENING\n",
            "Le score du modèle de regression est de 0.12658005146395135 \n",
            "Le score du modèle de classification KNN est : 0.26391984422529846\n",
            " La CLASSIFICATION est un meilleur modèle \n",
            "\n",
            "Le paramètre choisi est : TOTAL_SNOW_MM\n",
            "Le score du modèle de regression est de -0.0419578594322656 \n",
            "Le score du modèle de classification KNN est : -0.021575697129589066\n",
            " La CLASSIFICATION est un meilleur modèle \n",
            "\n",
            "Le paramètre choisi est : UV_INDEX\n",
            "Le score du modèle de regression est de 0.0008839826724263977 \n",
            "Le score du modèle de classification KNN est : 0.039191676166822176\n",
            " La CLASSIFICATION est un meilleur modèle \n",
            "\n",
            "Le paramètre choisi est : MONTH\n",
            "Le score du modèle de regression est de -0.020317882591814662 \n",
            "Le score du modèle de classification KNN est : 0.6641245639422116\n",
            " La CLASSIFICATION est un meilleur modèle \n",
            "\n",
            "Le paramètre choisi est : DAY\n",
            "Le score du modèle de regression est de -0.043275391209669944 \n",
            "Le score du modèle de classification KNN est : -0.06786365840004827\n",
            " La REGRESSION est un meilleur modèle \n",
            "\n",
            "Les paramètres interessants sont : \n",
            " ['MAX_TEMPERATURE_C', 'TEMPERATURE_NOON_C', 'TEMPERATURE_EVENING_C', 'HUMIDITY_MAX_PERCENT', 'CLOUDCOVER_AVG_PERCENT', 'HEATINDEX_MAX_C', 'WINDTEMP_MAX_C', 'MONTH']\n",
            "La meilleur colonne pour la classification est : MONTH, avec un score de 0.6641245639422116\n",
            "La meilleur colonne pour la régression linéaire est : HEATINDEX_MAX_C, avec un score de 0.5014854673965032\n"
          ],
          "name": "stdout"
        }
      ]
    },
    {
      "cell_type": "markdown",
      "metadata": {
        "id": "68w4B7eApNNh",
        "colab_type": "text"
      },
      "source": [
        "#Boucle avec plusieurs groupes de paramètres"
      ]
    },
    {
      "cell_type": "code",
      "metadata": {
        "id": "kqxqvKFNw_5W",
        "colab_type": "code",
        "colab": {}
      },
      "source": [
        "#que les indices de température\n",
        "param1 =['MAX_TEMPERATURE_C', 'MIN_TEMPERATURE_C', \n",
        "       'TEMPERATURE_MORNING_C', 'TEMPERATURE_NOON_C', 'TEMPERATURE_EVENING_C',\n",
        "        'HEATINDEX_MAX_C',]"
      ],
      "execution_count": 0,
      "outputs": []
    },
    {
      "cell_type": "code",
      "metadata": {
        "id": "0tHqXptOx73y",
        "colab_type": "code",
        "colab": {}
      },
      "source": [
        "#que les autres indices\n",
        "param2 =[ 'WINDSPEED_MAX_KMH', 'PRECIP_TOTAL_DAY_MM', 'HUMIDITY_MAX_PERCENT', 'VISIBILITY_AVG_KM',\n",
        "       'PRESSURE_MAX_MB', 'CLOUDCOVER_AVG_PERCENT','DEWPOINT_MAX_C', 'WINDTEMP_MAX_C', 'WEATHER_CODE_MORNING',\n",
        "       'WEATHER_CODE_NOON', 'WEATHER_CODE_EVENING',\n",
        "       'UV_INDEX', 'MONTH', 'DAY']"
      ],
      "execution_count": 0,
      "outputs": []
    },
    {
      "cell_type": "code",
      "metadata": {
        "id": "zymhWp1I1IU_",
        "colab_type": "code",
        "colab": {}
      },
      "source": [
        "#les indices permettant de savoir si le temps est bon et le ciel dégagé (visibilité, pression atmosphérique, précipitations, températures...)\n",
        "param3 = ['MAX_TEMPERATURE_C','MIN_TEMPERATURE_C', 'VISIBILITY_AVG_KM', 'WINDTEMP_MAX_C', 'PRESSURE_MAX_MB', 'CLOUDCOVER_AVG_PERCENT', 'HEATINDEX_MAX_C', 'PRECIP_TOTAL_DAY_MM']"
      ],
      "execution_count": 0,
      "outputs": []
    },
    {
      "cell_type": "code",
      "metadata": {
        "id": "1jtlHATzyY1Z",
        "colab_type": "code",
        "colab": {}
      },
      "source": [
        "#liste un peu plus complète\n",
        "param4 = ['MAX_TEMPERATURE_C', 'MIN_TEMPERATURE_C',\n",
        "       'TEMPERATURE_MORNING_C', 'TEMPERATURE_NOON_C', 'TEMPERATURE_EVENING_C',\n",
        "       'PRECIP_TOTAL_DAY_MM', 'VISIBILITY_AVG_KM',\n",
        "       'PRESSURE_MAX_MB', 'CLOUDCOVER_AVG_PERCENT', 'HEATINDEX_MAX_C',\n",
        "        'WINDTEMP_MAX_C', 'WEATHER_CODE_MORNING',\n",
        "       'WEATHER_CODE_NOON', 'WEATHER_CODE_EVENING',\n",
        "       'UV_INDEX', 'MONTH', 'DAY']"
      ],
      "execution_count": 0,
      "outputs": []
    },
    {
      "cell_type": "code",
      "metadata": {
        "id": "e3b6I8EQykSA",
        "colab_type": "code",
        "colab": {}
      },
      "source": [
        "#toutes les colonnes numeriques\n",
        "param5 = ['MAX_TEMPERATURE_C', 'MIN_TEMPERATURE_C', 'WINDSPEED_MAX_KMH',\n",
        "       'TEMPERATURE_MORNING_C', 'TEMPERATURE_NOON_C', 'TEMPERATURE_EVENING_C',\n",
        "       'PRECIP_TOTAL_DAY_MM', 'HUMIDITY_MAX_PERCENT', 'VISIBILITY_AVG_KM',\n",
        "       'PRESSURE_MAX_MB', 'CLOUDCOVER_AVG_PERCENT', 'HEATINDEX_MAX_C',\n",
        "       'DEWPOINT_MAX_C', 'WINDTEMP_MAX_C', 'WEATHER_CODE_MORNING',\n",
        "       'WEATHER_CODE_NOON', 'WEATHER_CODE_EVENING', 'TOTAL_SNOW_MM',\n",
        "       'UV_INDEX', 'MONTH', 'DAY']"
      ],
      "execution_count": 0,
      "outputs": []
    },
    {
      "cell_type": "code",
      "metadata": {
        "id": "Dm52PG3aAeg3",
        "colab_type": "code",
        "outputId": "f88335a1-991d-46ef-bf52-aff585812cd1",
        "colab": {
          "base_uri": "https://localhost:8080/",
          "height": 151
        }
      },
      "source": [
        "#paramètres issus de l'analyse ci dessus\n",
        "param_ok"
      ],
      "execution_count": 0,
      "outputs": [
        {
          "output_type": "execute_result",
          "data": {
            "text/plain": [
              "['MAX_TEMPERATURE_C',\n",
              " 'TEMPERATURE_NOON_C',\n",
              " 'TEMPERATURE_EVENING_C',\n",
              " 'HUMIDITY_MAX_PERCENT',\n",
              " 'CLOUDCOVER_AVG_PERCENT',\n",
              " 'HEATINDEX_MAX_C',\n",
              " 'WINDTEMP_MAX_C',\n",
              " 'MONTH']"
            ]
          },
          "metadata": {
            "tags": []
          },
          "execution_count": 184
        }
      ]
    },
    {
      "cell_type": "code",
      "metadata": {
        "id": "ToHGupDpyqio",
        "colab_type": "code",
        "colab": {}
      },
      "source": [
        "param = [param1, param2, param3, param4, param5, param_ok]"
      ],
      "execution_count": 0,
      "outputs": []
    },
    {
      "cell_type": "code",
      "metadata": {
        "id": "X0S7cwQjyyMm",
        "colab_type": "code",
        "outputId": "d326fed1-ffe9-4112-c2ab-89589a58267f",
        "colab": {
          "base_uri": "https://localhost:8080/",
          "height": 541
        }
      },
      "source": [
        "for item in param :\n",
        "  X = df_weather[item]\n",
        "  y= df_weather['SUNHOUR']\n",
        "  X_train, X_test, y_train, y_test = train_test_split(X, y, test_size=0.20, random_state=42)\n",
        "  modelLR = LinearRegression().fit(X_train, y_train)\n",
        "  modelKnn = KNeighborsRegressor(n_neighbors=n_neigh).fit(X_train, y_train)\n",
        "  scoreLR = modelLR.score(X_test, y_test)\n",
        "  scoreKnn =modelKnn.score(X_test, y_test)\n",
        "  print('Les paramètres choisis sont : {}'.format(item))\n",
        "  print('Le score du modèle de regression est de {} \\nLe score du modèle de classification KNN est : {}'.format(scoreLR, scoreKnn))\n",
        "  if scoreLR > scoreKnn:\n",
        "    print(' La REGRESSION est un meilleur modèle \\n')\n",
        "  elif  scoreLR < scoreKnn:\n",
        "    print(' La CLASSIFICATION est un meilleur modèle \\n')\n",
        "  else :\n",
        "    print(' les deux modèles sont EQUIVALENTS \\n')"
      ],
      "execution_count": 0,
      "outputs": [
        {
          "output_type": "stream",
          "text": [
            "Les paramètres choisis sont : ['MAX_TEMPERATURE_C', 'MIN_TEMPERATURE_C', 'TEMPERATURE_MORNING_C', 'TEMPERATURE_NOON_C', 'TEMPERATURE_EVENING_C', 'HEATINDEX_MAX_C']\n",
            "Le score du modèle de regression est de 0.57703070267354 \n",
            "Le score du modèle de classification KNN est : 0.6662512196356383\n",
            " La CLASSIFICATION est un meilleur modèle \n",
            "\n",
            "Les paramètres choisis sont : ['WINDSPEED_MAX_KMH', 'PRECIP_TOTAL_DAY_MM', 'HUMIDITY_MAX_PERCENT', 'VISIBILITY_AVG_KM', 'PRESSURE_MAX_MB', 'CLOUDCOVER_AVG_PERCENT', 'DEWPOINT_MAX_C', 'WINDTEMP_MAX_C', 'WEATHER_CODE_MORNING', 'WEATHER_CODE_NOON', 'WEATHER_CODE_EVENING', 'UV_INDEX', 'MONTH', 'DAY']\n",
            "Le score du modèle de regression est de 0.7689465709846173 \n",
            "Le score du modèle de classification KNN est : 0.5032891304348641\n",
            " La REGRESSION est un meilleur modèle \n",
            "\n",
            "Les paramètres choisis sont : ['MAX_TEMPERATURE_C', 'MIN_TEMPERATURE_C', 'VISIBILITY_AVG_KM', 'WINDTEMP_MAX_C', 'PRESSURE_MAX_MB', 'CLOUDCOVER_AVG_PERCENT', 'HEATINDEX_MAX_C', 'PRECIP_TOTAL_DAY_MM']\n",
            "Le score du modèle de regression est de 0.6805057310854805 \n",
            "Le score du modèle de classification KNN est : 0.7130981376948172\n",
            " La CLASSIFICATION est un meilleur modèle \n",
            "\n",
            "Les paramètres choisis sont : ['MAX_TEMPERATURE_C', 'MIN_TEMPERATURE_C', 'TEMPERATURE_MORNING_C', 'TEMPERATURE_NOON_C', 'TEMPERATURE_EVENING_C', 'PRECIP_TOTAL_DAY_MM', 'VISIBILITY_AVG_KM', 'PRESSURE_MAX_MB', 'CLOUDCOVER_AVG_PERCENT', 'HEATINDEX_MAX_C', 'WINDTEMP_MAX_C', 'WEATHER_CODE_MORNING', 'WEATHER_CODE_NOON', 'WEATHER_CODE_EVENING', 'UV_INDEX', 'MONTH', 'DAY']\n",
            "Le score du modèle de regression est de 0.7462250215722455 \n",
            "Le score du modèle de classification KNN est : 0.5253237709528673\n",
            " La REGRESSION est un meilleur modèle \n",
            "\n",
            "Les paramètres choisis sont : ['MAX_TEMPERATURE_C', 'MIN_TEMPERATURE_C', 'WINDSPEED_MAX_KMH', 'TEMPERATURE_MORNING_C', 'TEMPERATURE_NOON_C', 'TEMPERATURE_EVENING_C', 'PRECIP_TOTAL_DAY_MM', 'HUMIDITY_MAX_PERCENT', 'VISIBILITY_AVG_KM', 'PRESSURE_MAX_MB', 'CLOUDCOVER_AVG_PERCENT', 'HEATINDEX_MAX_C', 'DEWPOINT_MAX_C', 'WINDTEMP_MAX_C', 'WEATHER_CODE_MORNING', 'WEATHER_CODE_NOON', 'WEATHER_CODE_EVENING', 'TOTAL_SNOW_MM', 'UV_INDEX', 'MONTH', 'DAY']\n",
            "Le score du modèle de regression est de 0.7469559091047298 \n",
            "Le score du modèle de classification KNN est : 0.5343471532294679\n",
            " La REGRESSION est un meilleur modèle \n",
            "\n",
            "Les paramètres choisis sont : ['MAX_TEMPERATURE_C', 'TEMPERATURE_NOON_C', 'TEMPERATURE_EVENING_C', 'HUMIDITY_MAX_PERCENT', 'CLOUDCOVER_AVG_PERCENT', 'HEATINDEX_MAX_C', 'WINDTEMP_MAX_C', 'MONTH']\n",
            "Le score du modèle de regression est de 0.7287577834793535 \n",
            "Le score du modèle de classification KNN est : 0.78226490398028\n",
            " La CLASSIFICATION est un meilleur modèle \n",
            "\n"
          ],
          "name": "stdout"
        }
      ]
    },
    {
      "cell_type": "markdown",
      "metadata": {
        "id": "84Sd03PI5A8f",
        "colab_type": "text"
      },
      "source": [
        "Le meilleur score est obtenu par la dernière liste de paramètres (celle issuee de l'analyse individuelle des colonnes): "
      ]
    },
    {
      "cell_type": "code",
      "metadata": {
        "id": "HpklJa-b4jXf",
        "colab_type": "code",
        "outputId": "63d89d87-ab22-4037-bcec-1fbb77062abe",
        "colab": {
          "base_uri": "https://localhost:8080/",
          "height": 151
        }
      },
      "source": [
        "param_ok"
      ],
      "execution_count": 0,
      "outputs": [
        {
          "output_type": "execute_result",
          "data": {
            "text/plain": [
              "['MAX_TEMPERATURE_C',\n",
              " 'TEMPERATURE_NOON_C',\n",
              " 'TEMPERATURE_EVENING_C',\n",
              " 'HUMIDITY_MAX_PERCENT',\n",
              " 'CLOUDCOVER_AVG_PERCENT',\n",
              " 'HEATINDEX_MAX_C',\n",
              " 'WINDTEMP_MAX_C',\n",
              " 'MONTH']"
            ]
          },
          "metadata": {
            "tags": []
          },
          "execution_count": 187
        }
      ]
    },
    {
      "cell_type": "markdown",
      "metadata": {
        "id": "SANS2ZIe5Otm",
        "colab_type": "text"
      },
      "source": [
        "Dans ce cas là, la classification est le meilleur modèle (mais en fonction des paramètres choisis la régression est également intéressante)"
      ]
    }
  ]
}